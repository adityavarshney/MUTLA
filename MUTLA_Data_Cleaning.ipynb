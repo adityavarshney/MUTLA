{
  "nbformat": 4,
  "nbformat_minor": 0,
  "metadata": {
    "anaconda-cloud": {},
    "kernelspec": {
      "display_name": "Python [default]",
      "language": "python",
      "name": "python3"
    },
    "language_info": {
      "codemirror_mode": {
        "name": "ipython",
        "version": 3
      },
      "file_extension": ".py",
      "mimetype": "text/x-python",
      "name": "python",
      "nbconvert_exporter": "python",
      "pygments_lexer": "ipython3",
      "version": "3.5.6"
    },
    "colab": {
      "name": "MUTLA Data Cleaning.ipynb",
      "provenance": [],
      "collapsed_sections": []
    }
  },
  "cells": [
    {
      "cell_type": "code",
      "metadata": {
        "id": "mcUdtjTY4Lw-",
        "colab_type": "code",
        "colab": {}
      },
      "source": [
        "import pandas as pd\n",
        "import numpy as np"
      ],
      "execution_count": 0,
      "outputs": []
    },
    {
      "cell_type": "markdown",
      "metadata": {
        "id": "F1Z23mO-4LxB",
        "colab_type": "text"
      },
      "source": [
        "Get the main synced files, drop irrelevant columns and discard entries that don't have values for attention files\n",
        "\n",
        "Need schoolg.txt (syncd file), user_records folder, and schoolg directory with all the brainwave data. Same for the schooln data."
      ]
    },
    {
      "cell_type": "code",
      "metadata": {
        "id": "4u4w-U4f4LxB",
        "colab_type": "code",
        "outputId": "e5766c8a-fdbe-4fb9-e54c-7a8b3f5480a0",
        "colab": {
          "base_uri": "https://localhost:8080/",
          "height": 51
        }
      },
      "source": [
        "schoolg = pd.read_csv(\"https://attention-difficulty.s3.us-east-2.amazonaws.com/synced/schoolg.txt\",delimiter=',')\n",
        "print(\"schoolg shape\", schoolg.shape)\n",
        "schooln = pd.read_csv('https://attention-difficulty.s3.us-east-2.amazonaws.com/synced/schooln.txt',delimiter=',')\n",
        "print(\"schooln shape\", schooln.shape)"
      ],
      "execution_count": 0,
      "outputs": [
        {
          "output_type": "stream",
          "text": [
            "schoolg shape (4468, 10)\n",
            "schooln shape (24125, 10)\n"
          ],
          "name": "stdout"
        }
      ]
    },
    {
      "cell_type": "code",
      "metadata": {
        "id": "9lHZOINK4LxE",
        "colab_type": "code",
        "outputId": "f02af9b0-ec0f-4225-f8af-983aa31034c1",
        "colab": {
          "base_uri": "https://localhost:8080/",
          "height": 85
        }
      },
      "source": [
        "print(f\"schoolg: Dropping {schoolg.shape[0] - schoolg.dropna(subset=['brainwave_file_path_attention']).shape[0]} rows without corresponding brainwave data\")\n",
        "\n",
        "schoolg = schoolg.dropna(subset=['brainwave_file_path_attention'])\n",
        "schoolg = schoolg.drop(columns=['brainwave_file_path_EEG', 'brainwave_file_path_events'])\n",
        "print(schoolg.shape)\n",
        "\n",
        "print(f\"schooln: Dropping {schooln.shape[0] - schooln.dropna(subset=['brainwave_file_path_attention']).shape[0]} rows without corresponding brainwave data\")\n",
        "\n",
        "schooln = schooln.dropna(subset=['brainwave_file_path_attention'])\n",
        "schooln = schooln.drop(columns=['brainwave_file_path_EEG', 'brainwave_file_path_events'])\n",
        "print(schooln.shape)\n",
        "\n",
        "# schooln = schooln.dropna(subset=['brainwave_file_path_attention'])\n",
        "# schooln = schooln.drop(columns=['brainwave_file_path_EEG', 'brainwave_file_path_events'])\n",
        "\n",
        "# stacked = pd.concat([schoolg, schooln])"
      ],
      "execution_count": 0,
      "outputs": [
        {
          "output_type": "stream",
          "text": [
            "schoolg: Dropping 4088 rows without corresponding brainwave data\n",
            "(380, 8)\n",
            "schooln: Dropping 21093 rows without corresponding brainwave data\n",
            "(3032, 8)\n"
          ],
          "name": "stdout"
        }
      ]
    },
    {
      "cell_type": "markdown",
      "metadata": {
        "id": "peB8Dq4k4LxF",
        "colab_type": "text"
      },
      "source": [
        "We still need to get the correctness and difficulty for each question, as well as the attention. However, matching timestamped attention may be difficult due to data inconsistencies. The next steps go through with joining each subject's question difficulty with each student's response information from the schoolg and schooln data. Then we calculate average attention readings using the attention data files and add an avg_attention column to reflect these values. This is coarse information that can be used to loosely connect difficulty and attention."
      ]
    },
    {
      "cell_type": "code",
      "metadata": {
        "id": "KY07fPr14LxG",
        "colab_type": "code",
        "outputId": "27ac1184-89c4-4cbc-9b6e-196ff185ef5f",
        "colab": {
          "base_uri": "https://localhost:8080/",
          "height": 374
        }
      },
      "source": [
        "# change for the real thing\n",
        "df = schoolg \n",
        "print(len(schoolg))\n",
        "display(df.dtypes)\n",
        "display(df[df['subject']=='en'].head())"
      ],
      "execution_count": 0,
      "outputs": [
        {
          "output_type": "stream",
          "text": [
            "380\n"
          ],
          "name": "stdout"
        },
        {
          "output_type": "display_data",
          "data": {
            "text/plain": [
              "user_id                           int64\n",
              "subject                          object\n",
              "question_id                      object\n",
              "school_id                         int64\n",
              "is_right                          int64\n",
              "stime                            object\n",
              "ctime                            object\n",
              "brainwave_file_path_attention    object\n",
              "dtype: object"
            ]
          },
          "metadata": {
            "tags": []
          }
        },
        {
          "output_type": "display_data",
          "data": {
            "text/html": [
              "<div>\n",
              "<style scoped>\n",
              "    .dataframe tbody tr th:only-of-type {\n",
              "        vertical-align: middle;\n",
              "    }\n",
              "\n",
              "    .dataframe tbody tr th {\n",
              "        vertical-align: top;\n",
              "    }\n",
              "\n",
              "    .dataframe thead th {\n",
              "        text-align: right;\n",
              "    }\n",
              "</style>\n",
              "<table border=\"1\" class=\"dataframe\">\n",
              "  <thead>\n",
              "    <tr style=\"text-align: right;\">\n",
              "      <th></th>\n",
              "      <th>user_id</th>\n",
              "      <th>subject</th>\n",
              "      <th>question_id</th>\n",
              "      <th>school_id</th>\n",
              "      <th>is_right</th>\n",
              "      <th>stime</th>\n",
              "      <th>ctime</th>\n",
              "      <th>brainwave_file_path_attention</th>\n",
              "    </tr>\n",
              "  </thead>\n",
              "  <tbody>\n",
              "    <tr>\n",
              "      <th>1237</th>\n",
              "      <td>6840100809585686</td>\n",
              "      <td>en</td>\n",
              "      <td>192136</td>\n",
              "      <td>196</td>\n",
              "      <td>1</td>\n",
              "      <td>29-Dec-2018 08:39:31</td>\n",
              "      <td>29-Dec-2018 08:40:12</td>\n",
              "      <td>schoolg/20181229-08-30/attention_f0fe6b76a0ec.log</td>\n",
              "    </tr>\n",
              "    <tr>\n",
              "      <th>1238</th>\n",
              "      <td>6840100809585686</td>\n",
              "      <td>en</td>\n",
              "      <td>192151</td>\n",
              "      <td>196</td>\n",
              "      <td>1</td>\n",
              "      <td>29-Dec-2018 08:40:13</td>\n",
              "      <td>29-Dec-2018 08:40:32</td>\n",
              "      <td>schoolg/20181229-08-30/attention_f0fe6b76a0ec.log</td>\n",
              "    </tr>\n",
              "    <tr>\n",
              "      <th>1239</th>\n",
              "      <td>6840100809585686</td>\n",
              "      <td>en</td>\n",
              "      <td>192150</td>\n",
              "      <td>196</td>\n",
              "      <td>1</td>\n",
              "      <td>29-Dec-2018 08:40:33</td>\n",
              "      <td>29-Dec-2018 08:41:00</td>\n",
              "      <td>schoolg/20181229-08-30/attention_f0fe6b76a0ec.log</td>\n",
              "    </tr>\n",
              "    <tr>\n",
              "      <th>1240</th>\n",
              "      <td>6840100809585686</td>\n",
              "      <td>en</td>\n",
              "      <td>85034</td>\n",
              "      <td>196</td>\n",
              "      <td>1</td>\n",
              "      <td>29-Dec-2018 08:41:01</td>\n",
              "      <td>29-Dec-2018 08:41:39</td>\n",
              "      <td>schoolg/20181229-08-30/attention_f0fe6b76a0ec.log</td>\n",
              "    </tr>\n",
              "    <tr>\n",
              "      <th>1241</th>\n",
              "      <td>6840100811464495</td>\n",
              "      <td>en</td>\n",
              "      <td>275568</td>\n",
              "      <td>196</td>\n",
              "      <td>0</td>\n",
              "      <td>29-Dec-2018 08:39:25</td>\n",
              "      <td>29-Dec-2018 08:41:47</td>\n",
              "      <td>schoolg/20181229-08-30/attention_f0fe6b55e328.log</td>\n",
              "    </tr>\n",
              "  </tbody>\n",
              "</table>\n",
              "</div>"
            ],
            "text/plain": [
              "               user_id  ...                      brainwave_file_path_attention\n",
              "1237  6840100809585686  ...  schoolg/20181229-08-30/attention_f0fe6b76a0ec.log\n",
              "1238  6840100809585686  ...  schoolg/20181229-08-30/attention_f0fe6b76a0ec.log\n",
              "1239  6840100809585686  ...  schoolg/20181229-08-30/attention_f0fe6b76a0ec.log\n",
              "1240  6840100809585686  ...  schoolg/20181229-08-30/attention_f0fe6b76a0ec.log\n",
              "1241  6840100811464495  ...  schoolg/20181229-08-30/attention_f0fe6b55e328.log\n",
              "\n",
              "[5 rows x 8 columns]"
            ]
          },
          "metadata": {
            "tags": []
          }
        }
      ]
    },
    {
      "cell_type": "code",
      "metadata": {
        "id": "oQjKk6o5J0k5",
        "colab_type": "code",
        "colab": {}
      },
      "source": [
        "df = pd.concat([schoolg, schooln]) "
      ],
      "execution_count": 0,
      "outputs": []
    },
    {
      "cell_type": "code",
      "metadata": {
        "id": "6M-ywrw34LxI",
        "colab_type": "code",
        "outputId": "8608102c-20e0-4561-fb84-88fd2ed82958",
        "colab": {
          "base_uri": "https://localhost:8080/",
          "height": 119
        }
      },
      "source": [
        "# get the question information by referencing the subject user records\n",
        "\n",
        "def get_subject_data(url):\n",
        "  df = pd.read_csv(url)\n",
        "  df = df[['user_id', 'school_index','question_id', 'difficulty', 'is_right']]\n",
        "  df.question_id = df.question_id.astype(str)\n",
        "  return df\n",
        "\n",
        "math = get_subject_data('https://attention-difficulty.s3.us-east-2.amazonaws.com/user+records/math_record_cleaned.csv')\n",
        "\n",
        "chemistry = get_subject_data('https://attention-difficulty.s3.us-east-2.amazonaws.com/user+records/chem_record_cleaned.csv')\n",
        "\n",
        "cn = get_subject_data('https://attention-difficulty.s3.us-east-2.amazonaws.com/user+records/cn_record_cleaned.csv')\n",
        "\n",
        "phy = get_subject_data('https://attention-difficulty.s3.us-east-2.amazonaws.com/user+records/phy_record_cleaned.csv')\n",
        "\n",
        "reading = get_subject_data('https://attention-difficulty.s3.us-east-2.amazonaws.com/user+records/en_reading_record_cleaned.csv')\n",
        "\n",
        "en = get_subject_data('https://attention-difficulty.s3.us-east-2.amazonaws.com/user+records/en_record_cleaned.csv')\n",
        "\n",
        "subjects = pd.concat([math, chemistry, cn, phy, reading, en]).drop_duplicates(subset=['user_id', 'question_id'])\n",
        "subjects.head()\n",
        "subjects.dtypes"
      ],
      "execution_count": 0,
      "outputs": [
        {
          "output_type": "execute_result",
          "data": {
            "text/plain": [
              "user_id          int64\n",
              "school_index     int64\n",
              "question_id     object\n",
              "difficulty       int64\n",
              "is_right         int64\n",
              "dtype: object"
            ]
          },
          "metadata": {
            "tags": []
          },
          "execution_count": 6
        }
      ]
    },
    {
      "cell_type": "code",
      "metadata": {
        "scrolled": true,
        "id": "mek8Vhx-4LxK",
        "colab_type": "code",
        "colab": {}
      },
      "source": [
        "# join with original data by matching user_id and question_id, now we have difficulty and correctness info\n",
        "new_df = pd.merge(df, subjects, how='left', on=['user_id','question_id'])"
      ],
      "execution_count": 0,
      "outputs": []
    },
    {
      "cell_type": "code",
      "metadata": {
        "id": "jSMSMLAJ4LxM",
        "colab_type": "code",
        "colab": {}
      },
      "source": [
        "def attentionfile_to_s3(x):\n",
        "  idx = x.find('school') + len('schoolX/')\n",
        "  return 'https://attention-difficulty.s3.us-east-2.amazonaws.com/brainwave/' + x[:idx] + 'data/' + x[idx:]\n",
        "\n",
        "new_df['s3_brainwave_file_path_attention'] = new_df['brainwave_file_path_attention'].apply(attentionfile_to_s3)"
      ],
      "execution_count": 0,
      "outputs": []
    },
    {
      "cell_type": "code",
      "metadata": {
        "id": "qsTgM4SkgmZ1",
        "colab_type": "code",
        "colab": {}
      },
      "source": [
        "# def calculate_avg_attention(filename):\n",
        "#   try:\n",
        "#     print(f'reading {filename}\\r')\n",
        "#     log = pd.read_csv(filename, delimiter='\\t', skiprows=2, names=['time', 'attention'])\n",
        "#     print(f'done   \\r')\n",
        "#     return log.attention.mean()\n",
        "#   except OSError as e:\n",
        "#     # print('file not found: ', filename)\n",
        "#     return -1"
      ],
      "execution_count": 0,
      "outputs": []
    },
    {
      "cell_type": "code",
      "metadata": {
        "id": "BfCxHY_T4LxO",
        "colab_type": "code",
        "colab": {}
      },
      "source": [
        "# new_df['avg_attention'] = new_df['s3_brainwave_file_path_attention'].apply(calculate_avg_attention)\n",
        "# display(f\"could not find {new_df[new_df['avg_attention'] == -1].shape[0]} out of {new_df.shape[0]} attention files\")\n",
        "# attention = new_df[new_df['avg_attention'] != -1]\n",
        "# display(attention.shape)"
      ],
      "execution_count": 0,
      "outputs": []
    },
    {
      "cell_type": "code",
      "metadata": {
        "id": "zU-9WJcVKs2d",
        "colab_type": "code",
        "outputId": "0a7bd69a-7af4-4c98-8b9f-a56fbebfba3a",
        "colab": {
          "base_uri": "https://localhost:8080/",
          "height": 394
        }
      },
      "source": [
        "new_df.head()"
      ],
      "execution_count": 0,
      "outputs": [
        {
          "output_type": "execute_result",
          "data": {
            "text/html": [
              "<div>\n",
              "<style scoped>\n",
              "    .dataframe tbody tr th:only-of-type {\n",
              "        vertical-align: middle;\n",
              "    }\n",
              "\n",
              "    .dataframe tbody tr th {\n",
              "        vertical-align: top;\n",
              "    }\n",
              "\n",
              "    .dataframe thead th {\n",
              "        text-align: right;\n",
              "    }\n",
              "</style>\n",
              "<table border=\"1\" class=\"dataframe\">\n",
              "  <thead>\n",
              "    <tr style=\"text-align: right;\">\n",
              "      <th></th>\n",
              "      <th>user_id</th>\n",
              "      <th>subject</th>\n",
              "      <th>question_id</th>\n",
              "      <th>school_id</th>\n",
              "      <th>is_right_x</th>\n",
              "      <th>stime</th>\n",
              "      <th>ctime</th>\n",
              "      <th>brainwave_file_path_attention</th>\n",
              "      <th>school_index</th>\n",
              "      <th>difficulty</th>\n",
              "      <th>is_right_y</th>\n",
              "      <th>s3_brainwave_file_path_attention</th>\n",
              "    </tr>\n",
              "  </thead>\n",
              "  <tbody>\n",
              "    <tr>\n",
              "      <th>0</th>\n",
              "      <td>6840100808795007</td>\n",
              "      <td>math</td>\n",
              "      <td>590bdec1f4aeb5737e1de73b</td>\n",
              "      <td>196</td>\n",
              "      <td>0</td>\n",
              "      <td>02-Dec-2018 14:50:24</td>\n",
              "      <td>02-Dec-2018 14:54:10</td>\n",
              "      <td>schoolg/20181202-14-39/attention_f0fe6b76a13a.log</td>\n",
              "      <td>1</td>\n",
              "      <td>2</td>\n",
              "      <td>0</td>\n",
              "      <td>https://attention-difficulty.s3.us-east-2.amaz...</td>\n",
              "    </tr>\n",
              "    <tr>\n",
              "      <th>1</th>\n",
              "      <td>6840100808795007</td>\n",
              "      <td>math</td>\n",
              "      <td>590bdec1f4aeb5737e1de73a</td>\n",
              "      <td>196</td>\n",
              "      <td>0</td>\n",
              "      <td>02-Dec-2018 14:54:32</td>\n",
              "      <td>02-Dec-2018 14:58:26</td>\n",
              "      <td>schoolg/20181202-14-39/attention_f0fe6b76a13a.log</td>\n",
              "      <td>1</td>\n",
              "      <td>2</td>\n",
              "      <td>0</td>\n",
              "      <td>https://attention-difficulty.s3.us-east-2.amaz...</td>\n",
              "    </tr>\n",
              "    <tr>\n",
              "      <th>2</th>\n",
              "      <td>6840100808795007</td>\n",
              "      <td>math</td>\n",
              "      <td>590bdec1f4aeb5737e1de74a</td>\n",
              "      <td>196</td>\n",
              "      <td>0</td>\n",
              "      <td>02-Dec-2018 14:58:27</td>\n",
              "      <td>02-Dec-2018 15:00:29</td>\n",
              "      <td>schoolg/20181202-14-39/attention_f0fe6b76a13a.log</td>\n",
              "      <td>1</td>\n",
              "      <td>2</td>\n",
              "      <td>0</td>\n",
              "      <td>https://attention-difficulty.s3.us-east-2.amaz...</td>\n",
              "    </tr>\n",
              "    <tr>\n",
              "      <th>3</th>\n",
              "      <td>6840100808795007</td>\n",
              "      <td>math</td>\n",
              "      <td>590bdec1f4aeb5737e1de749</td>\n",
              "      <td>196</td>\n",
              "      <td>1</td>\n",
              "      <td>02-Dec-2018 15:00:29</td>\n",
              "      <td>02-Dec-2018 15:01:26</td>\n",
              "      <td>schoolg/20181202-14-39/attention_f0fe6b76a13a.log</td>\n",
              "      <td>1</td>\n",
              "      <td>2</td>\n",
              "      <td>1</td>\n",
              "      <td>https://attention-difficulty.s3.us-east-2.amaz...</td>\n",
              "    </tr>\n",
              "    <tr>\n",
              "      <th>4</th>\n",
              "      <td>6840100808795007</td>\n",
              "      <td>math</td>\n",
              "      <td>590bdec1f4aeb5737e1de74b</td>\n",
              "      <td>196</td>\n",
              "      <td>0</td>\n",
              "      <td>02-Dec-2018 15:01:27</td>\n",
              "      <td>02-Dec-2018 15:03:28</td>\n",
              "      <td>schoolg/20181202-14-39/attention_f0fe6b76a13a.log</td>\n",
              "      <td>1</td>\n",
              "      <td>2</td>\n",
              "      <td>0</td>\n",
              "      <td>https://attention-difficulty.s3.us-east-2.amaz...</td>\n",
              "    </tr>\n",
              "  </tbody>\n",
              "</table>\n",
              "</div>"
            ],
            "text/plain": [
              "            user_id  ...                   s3_brainwave_file_path_attention\n",
              "0  6840100808795007  ...  https://attention-difficulty.s3.us-east-2.amaz...\n",
              "1  6840100808795007  ...  https://attention-difficulty.s3.us-east-2.amaz...\n",
              "2  6840100808795007  ...  https://attention-difficulty.s3.us-east-2.amaz...\n",
              "3  6840100808795007  ...  https://attention-difficulty.s3.us-east-2.amaz...\n",
              "4  6840100808795007  ...  https://attention-difficulty.s3.us-east-2.amaz...\n",
              "\n",
              "[5 rows x 12 columns]"
            ]
          },
          "metadata": {
            "tags": []
          },
          "execution_count": 11
        }
      ]
    },
    {
      "cell_type": "code",
      "metadata": {
        "id": "xgnECQt44LxQ",
        "colab_type": "code",
        "outputId": "63522c23-7fab-4de9-d492-01b87afc6ae7",
        "colab": {
          "base_uri": "https://localhost:8080/",
          "height": 289
        }
      },
      "source": [
        "new_df.sort_values(['user_id', 'stime']).head()"
      ],
      "execution_count": 0,
      "outputs": [
        {
          "output_type": "execute_result",
          "data": {
            "text/html": [
              "<div>\n",
              "<style scoped>\n",
              "    .dataframe tbody tr th:only-of-type {\n",
              "        vertical-align: middle;\n",
              "    }\n",
              "\n",
              "    .dataframe tbody tr th {\n",
              "        vertical-align: top;\n",
              "    }\n",
              "\n",
              "    .dataframe thead th {\n",
              "        text-align: right;\n",
              "    }\n",
              "</style>\n",
              "<table border=\"1\" class=\"dataframe\">\n",
              "  <thead>\n",
              "    <tr style=\"text-align: right;\">\n",
              "      <th></th>\n",
              "      <th>user_id</th>\n",
              "      <th>subject</th>\n",
              "      <th>question_id</th>\n",
              "      <th>school_id</th>\n",
              "      <th>is_right_x</th>\n",
              "      <th>stime</th>\n",
              "      <th>ctime</th>\n",
              "      <th>brainwave_file_path_attention</th>\n",
              "      <th>school_index</th>\n",
              "      <th>difficulty</th>\n",
              "      <th>is_right_y</th>\n",
              "      <th>s3_brainwave_file_path_attention</th>\n",
              "    </tr>\n",
              "  </thead>\n",
              "  <tbody>\n",
              "    <tr>\n",
              "      <th>3199</th>\n",
              "      <td>44749</td>\n",
              "      <td>cn</td>\n",
              "      <td>31648</td>\n",
              "      <td>290</td>\n",
              "      <td>1</td>\n",
              "      <td>01-Dec-2018 08:13:25</td>\n",
              "      <td>01-Dec-2018 08:17:58</td>\n",
              "      <td>schooln/20181201-15-59/attention_f0fe6b55e1d2.log</td>\n",
              "      <td>1</td>\n",
              "      <td>2</td>\n",
              "      <td>1</td>\n",
              "      <td>https://attention-difficulty.s3.us-east-2.amaz...</td>\n",
              "    </tr>\n",
              "    <tr>\n",
              "      <th>3201</th>\n",
              "      <td>44749</td>\n",
              "      <td>cn</td>\n",
              "      <td>31649</td>\n",
              "      <td>290</td>\n",
              "      <td>0</td>\n",
              "      <td>01-Dec-2018 08:17:58</td>\n",
              "      <td>01-Dec-2018 08:22:18</td>\n",
              "      <td>schooln/20181201-15-59/attention_f0fe6b55e1d2.log</td>\n",
              "      <td>1</td>\n",
              "      <td>3</td>\n",
              "      <td>0</td>\n",
              "      <td>https://attention-difficulty.s3.us-east-2.amaz...</td>\n",
              "    </tr>\n",
              "    <tr>\n",
              "      <th>3202</th>\n",
              "      <td>44749</td>\n",
              "      <td>cn</td>\n",
              "      <td>31647</td>\n",
              "      <td>290</td>\n",
              "      <td>0</td>\n",
              "      <td>01-Dec-2018 08:22:19</td>\n",
              "      <td>01-Dec-2018 08:25:03</td>\n",
              "      <td>schooln/20181201-15-59/attention_f0fe6b55e1d2.log</td>\n",
              "      <td>1</td>\n",
              "      <td>2</td>\n",
              "      <td>0</td>\n",
              "      <td>https://attention-difficulty.s3.us-east-2.amaz...</td>\n",
              "    </tr>\n",
              "    <tr>\n",
              "      <th>3206</th>\n",
              "      <td>44749</td>\n",
              "      <td>cn</td>\n",
              "      <td>31653</td>\n",
              "      <td>290</td>\n",
              "      <td>0</td>\n",
              "      <td>01-Dec-2018 08:46:26</td>\n",
              "      <td>01-Dec-2018 08:59:09</td>\n",
              "      <td>schooln/20181201-15-59/attention_f0fe6b55e1d2.log</td>\n",
              "      <td>1</td>\n",
              "      <td>2</td>\n",
              "      <td>0</td>\n",
              "      <td>https://attention-difficulty.s3.us-east-2.amaz...</td>\n",
              "    </tr>\n",
              "    <tr>\n",
              "      <th>3208</th>\n",
              "      <td>44749</td>\n",
              "      <td>cn</td>\n",
              "      <td>31654</td>\n",
              "      <td>290</td>\n",
              "      <td>0</td>\n",
              "      <td>01-Dec-2018 08:59:15</td>\n",
              "      <td>01-Dec-2018 09:03:07</td>\n",
              "      <td>schooln/20181201-15-59/attention_f0fe6b55e1d2.log</td>\n",
              "      <td>1</td>\n",
              "      <td>2</td>\n",
              "      <td>0</td>\n",
              "      <td>https://attention-difficulty.s3.us-east-2.amaz...</td>\n",
              "    </tr>\n",
              "  </tbody>\n",
              "</table>\n",
              "</div>"
            ],
            "text/plain": [
              "      user_id  ...                   s3_brainwave_file_path_attention\n",
              "3199    44749  ...  https://attention-difficulty.s3.us-east-2.amaz...\n",
              "3201    44749  ...  https://attention-difficulty.s3.us-east-2.amaz...\n",
              "3202    44749  ...  https://attention-difficulty.s3.us-east-2.amaz...\n",
              "3206    44749  ...  https://attention-difficulty.s3.us-east-2.amaz...\n",
              "3208    44749  ...  https://attention-difficulty.s3.us-east-2.amaz...\n",
              "\n",
              "[5 rows x 12 columns]"
            ]
          },
          "metadata": {
            "tags": []
          },
          "execution_count": 12
        }
      ]
    },
    {
      "cell_type": "code",
      "metadata": {
        "id": "Uw6smTLJFx9W",
        "colab_type": "code",
        "colab": {}
      },
      "source": [
        "new_df.to_csv('mutla-all-subj-avg-attention.csv')"
      ],
      "execution_count": 0,
      "outputs": []
    },
    {
      "cell_type": "code",
      "metadata": {
        "id": "B7NVerQJyfEx",
        "colab_type": "code",
        "colab": {}
      },
      "source": [
        "from google.colab import files \n",
        "files.download('mutla-all-subj-avg-attention.csv')"
      ],
      "execution_count": 0,
      "outputs": []
    },
    {
      "cell_type": "code",
      "metadata": {
        "id": "Lf-9KNLkykuA",
        "colab_type": "code",
        "colab": {}
      },
      "source": [
        "# calculate average attention between stime and ctime\n",
        "\n",
        "def calculate_specific_attention(filename, stime, ctime):\n",
        "    try:\n",
        "        log = pd.read_csv(filename, delimiter='\\t', skiprows=2, names=['time', 'attention'])\n",
        "        log['time'] = pd.to_datetime(log['time'], unit='s') + pd.Timedelta(hours=8)\n",
        "        mask = (log['time'] > stime) & (log['time'] <= ctime)\n",
        "        question_attention_score = log[mask]['attention'].mean()\n",
        "        return question_attention_score\n",
        "    \n",
        "    except OSError as e:\n",
        "        print('file not found: ', filename)\n",
        "    except ValueError as e:\n",
        "        print('unable to get datetime:', filename)"
      ],
      "execution_count": 0,
      "outputs": []
    },
    {
      "cell_type": "code",
      "metadata": {
        "id": "tqS9KmakqPZ_",
        "colab_type": "code",
        "colab": {}
      },
      "source": [
        ""
      ],
      "execution_count": 0,
      "outputs": []
    },
    {
      "cell_type": "code",
      "metadata": {
        "id": "4aYIH2WIqClF",
        "colab_type": "code",
        "colab": {}
      },
      "source": [
        "test_df = new_df.iloc[100:105, :]\n"
      ],
      "execution_count": 0,
      "outputs": []
    },
    {
      "cell_type": "code",
      "metadata": {
        "id": "U-K4VbAXioTe",
        "colab_type": "code",
        "outputId": "64fc1942-5ee3-4f72-86ce-857f604a1ba7",
        "colab": {
          "base_uri": "https://localhost:8080/",
          "height": 1000
        }
      },
      "source": [
        "new_df['specific_attention'] = new_df.apply(lambda x: calculate_specific_attention(x['s3_brainwave_file_path_attention'], x['stime'], x['ctime']), axis=1)"
      ],
      "execution_count": 0,
      "outputs": [
        {
          "output_type": "stream",
          "text": [
            "unable to get datetime: https://attention-difficulty.s3.us-east-2.amazonaws.com/brainwave/schooln/data/20181211-17-34/attention_f0fe6b55e21c.log\n",
            "unable to get datetime: https://attention-difficulty.s3.us-east-2.amazonaws.com/brainwave/schooln/data/20181211-17-34/attention_f0fe6b55e21c.log\n",
            "unable to get datetime: https://attention-difficulty.s3.us-east-2.amazonaws.com/brainwave/schooln/data/20181211-17-34/attention_f0fe6b55e21c.log\n",
            "unable to get datetime: https://attention-difficulty.s3.us-east-2.amazonaws.com/brainwave/schooln/data/20181211-17-34/attention_f0fe6b55e21c.log\n",
            "unable to get datetime: https://attention-difficulty.s3.us-east-2.amazonaws.com/brainwave/schooln/data/20181211-17-34/attention_f0fe6b55e21c.log\n",
            "unable to get datetime: https://attention-difficulty.s3.us-east-2.amazonaws.com/brainwave/schooln/data/20181211-17-34/attention_f0fe6b55e21c.log\n",
            "unable to get datetime: https://attention-difficulty.s3.us-east-2.amazonaws.com/brainwave/schooln/data/20181211-17-34/attention_f0fe6b55e21c.log\n",
            "unable to get datetime: https://attention-difficulty.s3.us-east-2.amazonaws.com/brainwave/schooln/data/20181211-17-34/attention_f0fe6b55e21c.log\n",
            "unable to get datetime: https://attention-difficulty.s3.us-east-2.amazonaws.com/brainwave/schooln/data/20181211-17-34/attention_f0fe6b55e21c.log\n",
            "unable to get datetime: https://attention-difficulty.s3.us-east-2.amazonaws.com/brainwave/schooln/data/20181211-17-34/attention_f0fe6b55e21c.log\n",
            "unable to get datetime: https://attention-difficulty.s3.us-east-2.amazonaws.com/brainwave/schooln/data/20181211-17-34/attention_f0fe6b55e21c.log\n",
            "unable to get datetime: https://attention-difficulty.s3.us-east-2.amazonaws.com/brainwave/schooln/data/20181211-17-34/attention_f0fe6b55e21c.log\n",
            "unable to get datetime: https://attention-difficulty.s3.us-east-2.amazonaws.com/brainwave/schooln/data/20181211-17-34/attention_f0fe6b55e21c.log\n",
            "unable to get datetime: https://attention-difficulty.s3.us-east-2.amazonaws.com/brainwave/schooln/data/20181211-17-34/attention_f0fe6b55e21c.log\n",
            "unable to get datetime: https://attention-difficulty.s3.us-east-2.amazonaws.com/brainwave/schooln/data/20181211-17-34/attention_f0fe6b55e21c.log\n",
            "unable to get datetime: https://attention-difficulty.s3.us-east-2.amazonaws.com/brainwave/schooln/data/20181211-17-34/attention_f0fe6b55e21c.log\n",
            "unable to get datetime: https://attention-difficulty.s3.us-east-2.amazonaws.com/brainwave/schooln/data/20181211-17-34/attention_f0fe6b55e21c.log\n",
            "unable to get datetime: https://attention-difficulty.s3.us-east-2.amazonaws.com/brainwave/schooln/data/20181211-17-34/attention_f0fe6b55e21c.log\n",
            "unable to get datetime: https://attention-difficulty.s3.us-east-2.amazonaws.com/brainwave/schooln/data/20181211-17-34/attention_f0fe6b55e21c.log\n",
            "unable to get datetime: https://attention-difficulty.s3.us-east-2.amazonaws.com/brainwave/schooln/data/20181211-17-34/attention_f0fe6b55e21c.log\n",
            "unable to get datetime: https://attention-difficulty.s3.us-east-2.amazonaws.com/brainwave/schooln/data/20181211-17-34/attention_f0fe6b55e21c.log\n",
            "unable to get datetime: https://attention-difficulty.s3.us-east-2.amazonaws.com/brainwave/schooln/data/20181211-17-34/attention_f0fe6b55e21c.log\n",
            "unable to get datetime: https://attention-difficulty.s3.us-east-2.amazonaws.com/brainwave/schooln/data/20181211-17-34/attention_f0fe6b55e21c.log\n",
            "unable to get datetime: https://attention-difficulty.s3.us-east-2.amazonaws.com/brainwave/schooln/data/20181211-17-34/attention_f0fe6b55e21c.log\n",
            "unable to get datetime: https://attention-difficulty.s3.us-east-2.amazonaws.com/brainwave/schooln/data/20181211-17-34/attention_f0fe6b55e21c.log\n",
            "unable to get datetime: https://attention-difficulty.s3.us-east-2.amazonaws.com/brainwave/schooln/data/20181211-17-34/attention_f0fe6b55e21c.log\n",
            "unable to get datetime: https://attention-difficulty.s3.us-east-2.amazonaws.com/brainwave/schooln/data/20181211-17-34/attention_f0fe6b55e21c.log\n",
            "unable to get datetime: https://attention-difficulty.s3.us-east-2.amazonaws.com/brainwave/schooln/data/20181211-17-34/attention_f0fe6b55e21c.log\n",
            "unable to get datetime: https://attention-difficulty.s3.us-east-2.amazonaws.com/brainwave/schooln/data/20181211-17-34/attention_f0fe6b55e21c.log\n",
            "unable to get datetime: https://attention-difficulty.s3.us-east-2.amazonaws.com/brainwave/schooln/data/20181211-17-34/attention_f0fe6b55e21c.log\n",
            "unable to get datetime: https://attention-difficulty.s3.us-east-2.amazonaws.com/brainwave/schooln/data/20181218-18-43/attention_f0fe6b55e1d6.log\n",
            "unable to get datetime: https://attention-difficulty.s3.us-east-2.amazonaws.com/brainwave/schooln/data/20181218-18-43/attention_f0fe6b55e1d6.log\n",
            "unable to get datetime: https://attention-difficulty.s3.us-east-2.amazonaws.com/brainwave/schooln/data/20181218-18-43/attention_f0fe6b55e1d6.log\n",
            "unable to get datetime: https://attention-difficulty.s3.us-east-2.amazonaws.com/brainwave/schooln/data/20181218-18-43/attention_f0fe6b55e1d6.log\n",
            "unable to get datetime: https://attention-difficulty.s3.us-east-2.amazonaws.com/brainwave/schooln/data/20181218-18-43/attention_f0fe6b55e1d6.log\n",
            "unable to get datetime: https://attention-difficulty.s3.us-east-2.amazonaws.com/brainwave/schooln/data/20181218-18-43/attention_f0fe6b55e1d6.log\n",
            "unable to get datetime: https://attention-difficulty.s3.us-east-2.amazonaws.com/brainwave/schooln/data/20181218-18-43/attention_f0fe6b55e1d6.log\n",
            "unable to get datetime: https://attention-difficulty.s3.us-east-2.amazonaws.com/brainwave/schooln/data/20181218-18-43/attention_f0fe6b55c40e.log\n",
            "unable to get datetime: https://attention-difficulty.s3.us-east-2.amazonaws.com/brainwave/schooln/data/20181218-18-43/attention_f0fe6b55e1d6.log\n",
            "unable to get datetime: https://attention-difficulty.s3.us-east-2.amazonaws.com/brainwave/schooln/data/20181218-18-43/attention_f0fe6b55e1d6.log\n",
            "unable to get datetime: https://attention-difficulty.s3.us-east-2.amazonaws.com/brainwave/schooln/data/20181218-18-43/attention_f0fe6b55e1d6.log\n",
            "unable to get datetime: https://attention-difficulty.s3.us-east-2.amazonaws.com/brainwave/schooln/data/20181218-18-43/attention_f0fe6b55e1d6.log\n",
            "unable to get datetime: https://attention-difficulty.s3.us-east-2.amazonaws.com/brainwave/schooln/data/20181218-18-43/attention_f0fe6b55e1d6.log\n",
            "unable to get datetime: https://attention-difficulty.s3.us-east-2.amazonaws.com/brainwave/schooln/data/20181218-18-43/attention_f0fe6b55c40e.log\n",
            "unable to get datetime: https://attention-difficulty.s3.us-east-2.amazonaws.com/brainwave/schooln/data/20181218-18-43/attention_f0fe6b55e1d6.log\n",
            "unable to get datetime: https://attention-difficulty.s3.us-east-2.amazonaws.com/brainwave/schooln/data/20181218-18-43/attention_f0fe6b55c40e.log\n",
            "unable to get datetime: https://attention-difficulty.s3.us-east-2.amazonaws.com/brainwave/schooln/data/20181218-18-43/attention_f0fe6b55c40e.log\n",
            "unable to get datetime: https://attention-difficulty.s3.us-east-2.amazonaws.com/brainwave/schooln/data/20181218-18-43/attention_f0fe6b55e1d6.log\n",
            "unable to get datetime: https://attention-difficulty.s3.us-east-2.amazonaws.com/brainwave/schooln/data/20181218-18-43/attention_f0fe6b55e1d6.log\n",
            "unable to get datetime: https://attention-difficulty.s3.us-east-2.amazonaws.com/brainwave/schooln/data/20181218-18-43/attention_f0fe6b55c40e.log\n",
            "unable to get datetime: https://attention-difficulty.s3.us-east-2.amazonaws.com/brainwave/schooln/data/20181218-18-43/attention_f0fe6b55e1d6.log\n",
            "unable to get datetime: https://attention-difficulty.s3.us-east-2.amazonaws.com/brainwave/schooln/data/20181218-18-43/attention_f0fe6b55c40e.log\n",
            "unable to get datetime: https://attention-difficulty.s3.us-east-2.amazonaws.com/brainwave/schooln/data/20181218-18-43/attention_f0fe6b55e1d6.log\n",
            "unable to get datetime: https://attention-difficulty.s3.us-east-2.amazonaws.com/brainwave/schooln/data/20181218-18-43/attention_f0fe6b55e1d6.log\n",
            "unable to get datetime: https://attention-difficulty.s3.us-east-2.amazonaws.com/brainwave/schooln/data/20181218-18-43/attention_f0fe6b55e1d6.log\n",
            "unable to get datetime: https://attention-difficulty.s3.us-east-2.amazonaws.com/brainwave/schooln/data/20181218-18-43/attention_f0fe6b55e1d6.log\n",
            "unable to get datetime: https://attention-difficulty.s3.us-east-2.amazonaws.com/brainwave/schooln/data/20181218-18-43/attention_f0fe6b55e1d6.log\n",
            "unable to get datetime: https://attention-difficulty.s3.us-east-2.amazonaws.com/brainwave/schooln/data/20181218-18-43/attention_f0fe6b55c40e.log\n",
            "unable to get datetime: https://attention-difficulty.s3.us-east-2.amazonaws.com/brainwave/schooln/data/20181218-18-43/attention_f0fe6b55c40e.log\n",
            "unable to get datetime: https://attention-difficulty.s3.us-east-2.amazonaws.com/brainwave/schooln/data/20181218-18-43/attention_f0fe6b55c40e.log\n",
            "unable to get datetime: https://attention-difficulty.s3.us-east-2.amazonaws.com/brainwave/schooln/data/20181218-18-43/attention_f0fe6b55e1d6.log\n",
            "unable to get datetime: https://attention-difficulty.s3.us-east-2.amazonaws.com/brainwave/schooln/data/20181218-18-43/attention_f0fe6b55c40e.log\n",
            "unable to get datetime: https://attention-difficulty.s3.us-east-2.amazonaws.com/brainwave/schooln/data/20181218-18-43/attention_f0fe6b55c40e.log\n",
            "unable to get datetime: https://attention-difficulty.s3.us-east-2.amazonaws.com/brainwave/schooln/data/20181218-18-43/attention_f0fe6b55c40e.log\n",
            "unable to get datetime: https://attention-difficulty.s3.us-east-2.amazonaws.com/brainwave/schooln/data/20181218-18-43/attention_f0fe6b55e1d6.log\n",
            "unable to get datetime: https://attention-difficulty.s3.us-east-2.amazonaws.com/brainwave/schooln/data/20181218-18-43/attention_f0fe6b55e1d6.log\n",
            "unable to get datetime: https://attention-difficulty.s3.us-east-2.amazonaws.com/brainwave/schooln/data/20181218-18-43/attention_f0fe6b55e1d6.log\n",
            "unable to get datetime: https://attention-difficulty.s3.us-east-2.amazonaws.com/brainwave/schooln/data/20181218-18-43/attention_f0fe6b55e1d6.log\n",
            "unable to get datetime: https://attention-difficulty.s3.us-east-2.amazonaws.com/brainwave/schooln/data/20181218-18-43/attention_f0fe6b55e1d6.log\n",
            "unable to get datetime: https://attention-difficulty.s3.us-east-2.amazonaws.com/brainwave/schooln/data/20181218-18-43/attention_f0fe6b55c40e.log\n",
            "unable to get datetime: https://attention-difficulty.s3.us-east-2.amazonaws.com/brainwave/schooln/data/20181218-18-43/attention_f0fe6b55e1d6.log\n",
            "unable to get datetime: https://attention-difficulty.s3.us-east-2.amazonaws.com/brainwave/schooln/data/20181218-18-43/attention_f0fe6b55c40e.log\n",
            "unable to get datetime: https://attention-difficulty.s3.us-east-2.amazonaws.com/brainwave/schooln/data/20181218-18-43/attention_f0fe6b55c40e.log\n",
            "unable to get datetime: https://attention-difficulty.s3.us-east-2.amazonaws.com/brainwave/schooln/data/20181218-18-43/attention_f0fe6b55c40e.log\n",
            "unable to get datetime: https://attention-difficulty.s3.us-east-2.amazonaws.com/brainwave/schooln/data/20181218-18-43/attention_f0fe6b55c40e.log\n",
            "unable to get datetime: https://attention-difficulty.s3.us-east-2.amazonaws.com/brainwave/schooln/data/20181218-18-43/attention_f0fe6b55c40e.log\n",
            "unable to get datetime: https://attention-difficulty.s3.us-east-2.amazonaws.com/brainwave/schooln/data/20181218-18-43/attention_f0fe6b55c40e.log\n",
            "unable to get datetime: https://attention-difficulty.s3.us-east-2.amazonaws.com/brainwave/schooln/data/20181218-18-43/attention_f0fe6b55c40e.log\n",
            "unable to get datetime: https://attention-difficulty.s3.us-east-2.amazonaws.com/brainwave/schooln/data/20181218-18-43/attention_f0fe6b55e1d6.log\n",
            "unable to get datetime: https://attention-difficulty.s3.us-east-2.amazonaws.com/brainwave/schooln/data/20181218-18-43/attention_f0fe6b55e1d6.log\n",
            "unable to get datetime: https://attention-difficulty.s3.us-east-2.amazonaws.com/brainwave/schooln/data/20181218-18-43/attention_f0fe6b55e1d6.log\n",
            "unable to get datetime: https://attention-difficulty.s3.us-east-2.amazonaws.com/brainwave/schooln/data/20181218-18-43/attention_f0fe6b55e1d6.log\n",
            "unable to get datetime: https://attention-difficulty.s3.us-east-2.amazonaws.com/brainwave/schooln/data/20181218-18-43/attention_f0fe6b55e1d6.log\n",
            "unable to get datetime: https://attention-difficulty.s3.us-east-2.amazonaws.com/brainwave/schooln/data/20181218-18-43/attention_f0fe6b55e1d6.log\n",
            "unable to get datetime: https://attention-difficulty.s3.us-east-2.amazonaws.com/brainwave/schooln/data/20181218-18-43/attention_f0fe6b55e1d6.log\n",
            "unable to get datetime: https://attention-difficulty.s3.us-east-2.amazonaws.com/brainwave/schooln/data/20181218-18-43/attention_f0fe6b55e1d6.log\n",
            "unable to get datetime: https://attention-difficulty.s3.us-east-2.amazonaws.com/brainwave/schooln/data/20181218-18-43/attention_f0fe6b55e1d6.log\n",
            "unable to get datetime: https://attention-difficulty.s3.us-east-2.amazonaws.com/brainwave/schooln/data/20181218-18-43/attention_f0fe6b55e1d6.log\n",
            "unable to get datetime: https://attention-difficulty.s3.us-east-2.amazonaws.com/brainwave/schooln/data/20181218-18-43/attention_f0fe6b55e1d6.log\n",
            "unable to get datetime: https://attention-difficulty.s3.us-east-2.amazonaws.com/brainwave/schooln/data/20181218-18-43/attention_f0fe6b55e1d6.log\n",
            "unable to get datetime: https://attention-difficulty.s3.us-east-2.amazonaws.com/brainwave/schooln/data/20181219-17-58/attention_f0fe6b55c40e.log\n",
            "unable to get datetime: https://attention-difficulty.s3.us-east-2.amazonaws.com/brainwave/schooln/data/20181219-17-58/attention_f0fe6b55c40e.log\n",
            "unable to get datetime: https://attention-difficulty.s3.us-east-2.amazonaws.com/brainwave/schooln/data/20181219-17-58/attention_f0fe6b55c40e.log\n",
            "unable to get datetime: https://attention-difficulty.s3.us-east-2.amazonaws.com/brainwave/schooln/data/20181219-17-58/attention_f0fe6b55c40e.log\n",
            "unable to get datetime: https://attention-difficulty.s3.us-east-2.amazonaws.com/brainwave/schooln/data/20181219-17-58/attention_f0fe6b55c40e.log\n",
            "unable to get datetime: https://attention-difficulty.s3.us-east-2.amazonaws.com/brainwave/schooln/data/20181219-17-58/attention_f0fe6b55c40e.log\n",
            "unable to get datetime: https://attention-difficulty.s3.us-east-2.amazonaws.com/brainwave/schooln/data/20181219-17-58/attention_f0fe6b55c40e.log\n",
            "unable to get datetime: https://attention-difficulty.s3.us-east-2.amazonaws.com/brainwave/schooln/data/20181219-17-58/attention_f0fe6b55c40e.log\n",
            "unable to get datetime: https://attention-difficulty.s3.us-east-2.amazonaws.com/brainwave/schooln/data/20181219-17-58/attention_f0fe6b55c40e.log\n",
            "unable to get datetime: https://attention-difficulty.s3.us-east-2.amazonaws.com/brainwave/schooln/data/20181219-17-58/attention_f0fe6b55c40e.log\n",
            "unable to get datetime: https://attention-difficulty.s3.us-east-2.amazonaws.com/brainwave/schooln/data/20181219-17-58/attention_f0fe6b55c40e.log\n",
            "unable to get datetime: https://attention-difficulty.s3.us-east-2.amazonaws.com/brainwave/schooln/data/20181219-17-58/attention_f0fe6b55c40e.log\n"
          ],
          "name": "stdout"
        }
      ]
    },
    {
      "cell_type": "code",
      "metadata": {
        "id": "uCAb5IPBqodp",
        "colab_type": "code",
        "colab": {}
      },
      "source": [
        "new_df.to_csv('mutla-final-data.csv')"
      ],
      "execution_count": 0,
      "outputs": []
    },
    {
      "cell_type": "code",
      "metadata": {
        "id": "Atvkw54w7AMg",
        "colab_type": "code",
        "colab": {}
      },
      "source": [
        "from google.colab import files \n",
        "files.download('mutla-final-data.csv')"
      ],
      "execution_count": 0,
      "outputs": []
    }
  ]
}