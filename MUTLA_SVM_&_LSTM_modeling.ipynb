{
  "nbformat": 4,
  "nbformat_minor": 0,
  "metadata": {
    "kernelspec": {
      "display_name": "Python [default]",
      "language": "python",
      "name": "python3"
    },
    "language_info": {
      "codemirror_mode": {
        "name": "ipython",
        "version": 3
      },
      "file_extension": ".py",
      "mimetype": "text/x-python",
      "name": "python",
      "nbconvert_exporter": "python",
      "pygments_lexer": "ipython3",
      "version": "3.5.6"
    },
    "colab": {
      "name": "MUTLA SVM & LSTM modeling.ipynb",
      "provenance": [],
      "collapsed_sections": []
    }
  },
  "cells": [
    {
      "cell_type": "code",
      "metadata": {
        "id": "RBnUiqULL4Z2",
        "colab_type": "code",
        "colab": {}
      },
      "source": [
        "# %cd mutla\n",
        "import pandas as pd\n",
        "import numpy as np"
      ],
      "execution_count": 0,
      "outputs": []
    },
    {
      "cell_type": "markdown",
      "metadata": {
        "id": "Njo_u_eV-0IT",
        "colab_type": "text"
      },
      "source": [
        "# Data importing, merging, and cleanup\n",
        "\n",
        "This file builds upon the [MUTLA Data Cleaning notebook](https://colab.research.google.com/drive/1DqCZ4V8nptp9_2zsfq4wnq9Sk5iu7rdN?usp=sharing). Please check that for any inconsistencies. The .csv files generated from that notebook can be found in our S3 Bucket. See the links below to acces these dataframe CSVs."
      ]
    },
    {
      "cell_type": "code",
      "metadata": {
        "id": "kDWXYeg5L4Z5",
        "colab_type": "code",
        "colab": {}
      },
      "source": [
        "# drop rows with no attention value \n",
        "csv_data = pd.read_csv('https://attention-difficulty.s3.us-east-2.amazonaws.com/mutla-final-data.csv',delimiter=',')\n",
        "avg_data = pd.read_csv('https://attention-difficulty.s3.us-east-2.amazonaws.com/mutla-averaged-attention.csv')\n",
        "\n",
        "joined = pd.merge(csv_data, avg_data)\n",
        "joined['avg'] = joined['specific_attention'].isnull()\n",
        "joined['specific_attention'] = joined.specific_attention.fillna(joined['avg_attention']) # fill specific attention with the avg_attention from the avg_data df\n",
        "dropped = joined"
      ],
      "execution_count": 0,
      "outputs": []
    },
    {
      "cell_type": "markdown",
      "metadata": {
        "id": "Ak2nYIPxz47V",
        "colab_type": "text"
      },
      "source": [
        "Seems to be missing Chemistry and English Reading subjects. No attention files maybe?"
      ]
    },
    {
      "cell_type": "code",
      "metadata": {
        "id": "aqOViHE0IQzb",
        "colab_type": "code",
        "outputId": "82a4d93a-bf49-4dcb-bba0-8c66e260b8ec",
        "colab": {
          "base_uri": "https://localhost:8080/",
          "height": 102
        }
      },
      "source": [
        "csv_data.subject.value_counts()"
      ],
      "execution_count": 0,
      "outputs": [
        {
          "output_type": "execute_result",
          "data": {
            "text/plain": [
              "en      1349\n",
              "math    1234\n",
              "phy      594\n",
              "cn       235\n",
              "Name: subject, dtype: int64"
            ]
          },
          "metadata": {
            "tags": []
          },
          "execution_count": 3
        }
      ]
    },
    {
      "cell_type": "code",
      "metadata": {
        "id": "iJSaBTecC1nq",
        "colab_type": "code",
        "outputId": "1728adc2-6000-444b-d0a5-0d8e10f2fd54",
        "colab": {
          "base_uri": "https://localhost:8080/",
          "height": 753
        }
      },
      "source": [
        "display(dropped.shape) \n",
        "display(dropped.head(10))"
      ],
      "execution_count": 0,
      "outputs": [
        {
          "output_type": "display_data",
          "data": {
            "text/plain": [
              "(3412, 16)"
            ]
          },
          "metadata": {
            "tags": []
          }
        },
        {
          "output_type": "display_data",
          "data": {
            "text/html": [
              "<div>\n",
              "<style scoped>\n",
              "    .dataframe tbody tr th:only-of-type {\n",
              "        vertical-align: middle;\n",
              "    }\n",
              "\n",
              "    .dataframe tbody tr th {\n",
              "        vertical-align: top;\n",
              "    }\n",
              "\n",
              "    .dataframe thead th {\n",
              "        text-align: right;\n",
              "    }\n",
              "</style>\n",
              "<table border=\"1\" class=\"dataframe\">\n",
              "  <thead>\n",
              "    <tr style=\"text-align: right;\">\n",
              "      <th></th>\n",
              "      <th>Unnamed: 0</th>\n",
              "      <th>user_id</th>\n",
              "      <th>subject</th>\n",
              "      <th>question_id</th>\n",
              "      <th>school_id</th>\n",
              "      <th>is_right_x</th>\n",
              "      <th>stime</th>\n",
              "      <th>ctime</th>\n",
              "      <th>brainwave_file_path_attention</th>\n",
              "      <th>school_index</th>\n",
              "      <th>difficulty</th>\n",
              "      <th>is_right_y</th>\n",
              "      <th>s3_brainwave_file_path_attention</th>\n",
              "      <th>specific_attention</th>\n",
              "      <th>avg_attention</th>\n",
              "      <th>avg</th>\n",
              "    </tr>\n",
              "  </thead>\n",
              "  <tbody>\n",
              "    <tr>\n",
              "      <th>0</th>\n",
              "      <td>0</td>\n",
              "      <td>6840100808795007</td>\n",
              "      <td>math</td>\n",
              "      <td>590bdec1f4aeb5737e1de73b</td>\n",
              "      <td>196</td>\n",
              "      <td>0</td>\n",
              "      <td>02-Dec-2018 14:50:24</td>\n",
              "      <td>02-Dec-2018 14:54:10</td>\n",
              "      <td>schoolg/20181202-14-39/attention_f0fe6b76a13a.log</td>\n",
              "      <td>1</td>\n",
              "      <td>2</td>\n",
              "      <td>0</td>\n",
              "      <td>https://attention-difficulty.s3.us-east-2.amaz...</td>\n",
              "      <td>38.327044</td>\n",
              "      <td>38.327044</td>\n",
              "      <td>True</td>\n",
              "    </tr>\n",
              "    <tr>\n",
              "      <th>1</th>\n",
              "      <td>1</td>\n",
              "      <td>6840100808795007</td>\n",
              "      <td>math</td>\n",
              "      <td>590bdec1f4aeb5737e1de73a</td>\n",
              "      <td>196</td>\n",
              "      <td>0</td>\n",
              "      <td>02-Dec-2018 14:54:32</td>\n",
              "      <td>02-Dec-2018 14:58:26</td>\n",
              "      <td>schoolg/20181202-14-39/attention_f0fe6b76a13a.log</td>\n",
              "      <td>1</td>\n",
              "      <td>2</td>\n",
              "      <td>0</td>\n",
              "      <td>https://attention-difficulty.s3.us-east-2.amaz...</td>\n",
              "      <td>38.327044</td>\n",
              "      <td>38.327044</td>\n",
              "      <td>True</td>\n",
              "    </tr>\n",
              "    <tr>\n",
              "      <th>2</th>\n",
              "      <td>2</td>\n",
              "      <td>6840100808795007</td>\n",
              "      <td>math</td>\n",
              "      <td>590bdec1f4aeb5737e1de74a</td>\n",
              "      <td>196</td>\n",
              "      <td>0</td>\n",
              "      <td>02-Dec-2018 14:58:27</td>\n",
              "      <td>02-Dec-2018 15:00:29</td>\n",
              "      <td>schoolg/20181202-14-39/attention_f0fe6b76a13a.log</td>\n",
              "      <td>1</td>\n",
              "      <td>2</td>\n",
              "      <td>0</td>\n",
              "      <td>https://attention-difficulty.s3.us-east-2.amaz...</td>\n",
              "      <td>38.327044</td>\n",
              "      <td>38.327044</td>\n",
              "      <td>True</td>\n",
              "    </tr>\n",
              "    <tr>\n",
              "      <th>3</th>\n",
              "      <td>3</td>\n",
              "      <td>6840100808795007</td>\n",
              "      <td>math</td>\n",
              "      <td>590bdec1f4aeb5737e1de749</td>\n",
              "      <td>196</td>\n",
              "      <td>1</td>\n",
              "      <td>02-Dec-2018 15:00:29</td>\n",
              "      <td>02-Dec-2018 15:01:26</td>\n",
              "      <td>schoolg/20181202-14-39/attention_f0fe6b76a13a.log</td>\n",
              "      <td>1</td>\n",
              "      <td>2</td>\n",
              "      <td>1</td>\n",
              "      <td>https://attention-difficulty.s3.us-east-2.amaz...</td>\n",
              "      <td>38.327044</td>\n",
              "      <td>38.327044</td>\n",
              "      <td>True</td>\n",
              "    </tr>\n",
              "    <tr>\n",
              "      <th>4</th>\n",
              "      <td>4</td>\n",
              "      <td>6840100808795007</td>\n",
              "      <td>math</td>\n",
              "      <td>590bdec1f4aeb5737e1de74b</td>\n",
              "      <td>196</td>\n",
              "      <td>0</td>\n",
              "      <td>02-Dec-2018 15:01:27</td>\n",
              "      <td>02-Dec-2018 15:03:28</td>\n",
              "      <td>schoolg/20181202-14-39/attention_f0fe6b76a13a.log</td>\n",
              "      <td>1</td>\n",
              "      <td>2</td>\n",
              "      <td>0</td>\n",
              "      <td>https://attention-difficulty.s3.us-east-2.amaz...</td>\n",
              "      <td>38.327044</td>\n",
              "      <td>38.327044</td>\n",
              "      <td>True</td>\n",
              "    </tr>\n",
              "    <tr>\n",
              "      <th>5</th>\n",
              "      <td>5</td>\n",
              "      <td>6840100808795007</td>\n",
              "      <td>math</td>\n",
              "      <td>58ff1107f4aeb56d7372d1da</td>\n",
              "      <td>196</td>\n",
              "      <td>0</td>\n",
              "      <td>02-Dec-2018 15:03:29</td>\n",
              "      <td>02-Dec-2018 15:05:22</td>\n",
              "      <td>schoolg/20181202-14-39/attention_f0fe6b76a13a.log</td>\n",
              "      <td>1</td>\n",
              "      <td>2</td>\n",
              "      <td>0</td>\n",
              "      <td>https://attention-difficulty.s3.us-east-2.amaz...</td>\n",
              "      <td>38.327044</td>\n",
              "      <td>38.327044</td>\n",
              "      <td>True</td>\n",
              "    </tr>\n",
              "    <tr>\n",
              "      <th>6</th>\n",
              "      <td>6</td>\n",
              "      <td>6840100808795007</td>\n",
              "      <td>math</td>\n",
              "      <td>58ff1107f4aeb56d7372d1db</td>\n",
              "      <td>196</td>\n",
              "      <td>0</td>\n",
              "      <td>02-Dec-2018 15:06:20</td>\n",
              "      <td>02-Dec-2018 15:12:24</td>\n",
              "      <td>schoolg/20181202-14-39/attention_f0fe6b76a13a.log</td>\n",
              "      <td>1</td>\n",
              "      <td>2</td>\n",
              "      <td>0</td>\n",
              "      <td>https://attention-difficulty.s3.us-east-2.amaz...</td>\n",
              "      <td>38.327044</td>\n",
              "      <td>38.327044</td>\n",
              "      <td>True</td>\n",
              "    </tr>\n",
              "    <tr>\n",
              "      <th>7</th>\n",
              "      <td>7</td>\n",
              "      <td>6840100808795007</td>\n",
              "      <td>math</td>\n",
              "      <td>590bdec1f4aeb5737e1de848</td>\n",
              "      <td>196</td>\n",
              "      <td>0</td>\n",
              "      <td>02-Dec-2018 15:12:24</td>\n",
              "      <td>02-Dec-2018 15:14:11</td>\n",
              "      <td>schoolg/20181202-14-39/attention_f0fe6b76a13a.log</td>\n",
              "      <td>1</td>\n",
              "      <td>2</td>\n",
              "      <td>0</td>\n",
              "      <td>https://attention-difficulty.s3.us-east-2.amaz...</td>\n",
              "      <td>39.533333</td>\n",
              "      <td>38.327044</td>\n",
              "      <td>False</td>\n",
              "    </tr>\n",
              "    <tr>\n",
              "      <th>8</th>\n",
              "      <td>8</td>\n",
              "      <td>6840100808795007</td>\n",
              "      <td>math</td>\n",
              "      <td>590bdec1f4aeb5737e1de849</td>\n",
              "      <td>196</td>\n",
              "      <td>1</td>\n",
              "      <td>02-Dec-2018 15:14:12</td>\n",
              "      <td>02-Dec-2018 15:14:56</td>\n",
              "      <td>schoolg/20181202-14-39/attention_f0fe6b76a13a.log</td>\n",
              "      <td>1</td>\n",
              "      <td>2</td>\n",
              "      <td>1</td>\n",
              "      <td>https://attention-difficulty.s3.us-east-2.amaz...</td>\n",
              "      <td>50.297297</td>\n",
              "      <td>38.327044</td>\n",
              "      <td>False</td>\n",
              "    </tr>\n",
              "    <tr>\n",
              "      <th>9</th>\n",
              "      <td>9</td>\n",
              "      <td>6840100808795007</td>\n",
              "      <td>math</td>\n",
              "      <td>590bdec1f4aeb5737e1de84a</td>\n",
              "      <td>196</td>\n",
              "      <td>1</td>\n",
              "      <td>02-Dec-2018 15:14:57</td>\n",
              "      <td>02-Dec-2018 15:16:37</td>\n",
              "      <td>schoolg/20181202-14-39/attention_f0fe6b76a13a.log</td>\n",
              "      <td>1</td>\n",
              "      <td>2</td>\n",
              "      <td>1</td>\n",
              "      <td>https://attention-difficulty.s3.us-east-2.amaz...</td>\n",
              "      <td>31.520000</td>\n",
              "      <td>38.327044</td>\n",
              "      <td>False</td>\n",
              "    </tr>\n",
              "  </tbody>\n",
              "</table>\n",
              "</div>"
            ],
            "text/plain": [
              "   Unnamed: 0           user_id  ... avg_attention    avg\n",
              "0           0  6840100808795007  ...     38.327044   True\n",
              "1           1  6840100808795007  ...     38.327044   True\n",
              "2           2  6840100808795007  ...     38.327044   True\n",
              "3           3  6840100808795007  ...     38.327044   True\n",
              "4           4  6840100808795007  ...     38.327044   True\n",
              "5           5  6840100808795007  ...     38.327044   True\n",
              "6           6  6840100808795007  ...     38.327044   True\n",
              "7           7  6840100808795007  ...     38.327044  False\n",
              "8           8  6840100808795007  ...     38.327044  False\n",
              "9           9  6840100808795007  ...     38.327044  False\n",
              "\n",
              "[10 rows x 16 columns]"
            ]
          },
          "metadata": {
            "tags": []
          }
        }
      ]
    },
    {
      "cell_type": "code",
      "metadata": {
        "id": "GAvqYFPWL4Z7",
        "colab_type": "code",
        "outputId": "bbfd322b-d299-47be-99d0-209fdba4191f",
        "colab": {
          "base_uri": "https://localhost:8080/",
          "height": 411
        }
      },
      "source": [
        "# modify data \n",
        "dropped['ctime'] = pd.to_datetime(dropped['ctime'])\n",
        "dropped['stime'] = pd.to_datetime(dropped['stime'])\n",
        "dropped['time_spent'] = (dropped['ctime'] - dropped['stime']).astype('timedelta64[s]')\n",
        "dropped.head()"
      ],
      "execution_count": 0,
      "outputs": [
        {
          "output_type": "execute_result",
          "data": {
            "text/html": [
              "<div>\n",
              "<style scoped>\n",
              "    .dataframe tbody tr th:only-of-type {\n",
              "        vertical-align: middle;\n",
              "    }\n",
              "\n",
              "    .dataframe tbody tr th {\n",
              "        vertical-align: top;\n",
              "    }\n",
              "\n",
              "    .dataframe thead th {\n",
              "        text-align: right;\n",
              "    }\n",
              "</style>\n",
              "<table border=\"1\" class=\"dataframe\">\n",
              "  <thead>\n",
              "    <tr style=\"text-align: right;\">\n",
              "      <th></th>\n",
              "      <th>Unnamed: 0</th>\n",
              "      <th>user_id</th>\n",
              "      <th>subject</th>\n",
              "      <th>question_id</th>\n",
              "      <th>school_id</th>\n",
              "      <th>is_right_x</th>\n",
              "      <th>stime</th>\n",
              "      <th>ctime</th>\n",
              "      <th>brainwave_file_path_attention</th>\n",
              "      <th>school_index</th>\n",
              "      <th>difficulty</th>\n",
              "      <th>is_right_y</th>\n",
              "      <th>s3_brainwave_file_path_attention</th>\n",
              "      <th>specific_attention</th>\n",
              "      <th>avg_attention</th>\n",
              "      <th>avg</th>\n",
              "      <th>time_spent</th>\n",
              "    </tr>\n",
              "  </thead>\n",
              "  <tbody>\n",
              "    <tr>\n",
              "      <th>0</th>\n",
              "      <td>0</td>\n",
              "      <td>6840100808795007</td>\n",
              "      <td>math</td>\n",
              "      <td>590bdec1f4aeb5737e1de73b</td>\n",
              "      <td>196</td>\n",
              "      <td>0</td>\n",
              "      <td>2018-12-02 14:50:24</td>\n",
              "      <td>2018-12-02 14:54:10</td>\n",
              "      <td>schoolg/20181202-14-39/attention_f0fe6b76a13a.log</td>\n",
              "      <td>1</td>\n",
              "      <td>2</td>\n",
              "      <td>0</td>\n",
              "      <td>https://attention-difficulty.s3.us-east-2.amaz...</td>\n",
              "      <td>38.327044</td>\n",
              "      <td>38.327044</td>\n",
              "      <td>True</td>\n",
              "      <td>226.0</td>\n",
              "    </tr>\n",
              "    <tr>\n",
              "      <th>1</th>\n",
              "      <td>1</td>\n",
              "      <td>6840100808795007</td>\n",
              "      <td>math</td>\n",
              "      <td>590bdec1f4aeb5737e1de73a</td>\n",
              "      <td>196</td>\n",
              "      <td>0</td>\n",
              "      <td>2018-12-02 14:54:32</td>\n",
              "      <td>2018-12-02 14:58:26</td>\n",
              "      <td>schoolg/20181202-14-39/attention_f0fe6b76a13a.log</td>\n",
              "      <td>1</td>\n",
              "      <td>2</td>\n",
              "      <td>0</td>\n",
              "      <td>https://attention-difficulty.s3.us-east-2.amaz...</td>\n",
              "      <td>38.327044</td>\n",
              "      <td>38.327044</td>\n",
              "      <td>True</td>\n",
              "      <td>234.0</td>\n",
              "    </tr>\n",
              "    <tr>\n",
              "      <th>2</th>\n",
              "      <td>2</td>\n",
              "      <td>6840100808795007</td>\n",
              "      <td>math</td>\n",
              "      <td>590bdec1f4aeb5737e1de74a</td>\n",
              "      <td>196</td>\n",
              "      <td>0</td>\n",
              "      <td>2018-12-02 14:58:27</td>\n",
              "      <td>2018-12-02 15:00:29</td>\n",
              "      <td>schoolg/20181202-14-39/attention_f0fe6b76a13a.log</td>\n",
              "      <td>1</td>\n",
              "      <td>2</td>\n",
              "      <td>0</td>\n",
              "      <td>https://attention-difficulty.s3.us-east-2.amaz...</td>\n",
              "      <td>38.327044</td>\n",
              "      <td>38.327044</td>\n",
              "      <td>True</td>\n",
              "      <td>122.0</td>\n",
              "    </tr>\n",
              "    <tr>\n",
              "      <th>3</th>\n",
              "      <td>3</td>\n",
              "      <td>6840100808795007</td>\n",
              "      <td>math</td>\n",
              "      <td>590bdec1f4aeb5737e1de749</td>\n",
              "      <td>196</td>\n",
              "      <td>1</td>\n",
              "      <td>2018-12-02 15:00:29</td>\n",
              "      <td>2018-12-02 15:01:26</td>\n",
              "      <td>schoolg/20181202-14-39/attention_f0fe6b76a13a.log</td>\n",
              "      <td>1</td>\n",
              "      <td>2</td>\n",
              "      <td>1</td>\n",
              "      <td>https://attention-difficulty.s3.us-east-2.amaz...</td>\n",
              "      <td>38.327044</td>\n",
              "      <td>38.327044</td>\n",
              "      <td>True</td>\n",
              "      <td>57.0</td>\n",
              "    </tr>\n",
              "    <tr>\n",
              "      <th>4</th>\n",
              "      <td>4</td>\n",
              "      <td>6840100808795007</td>\n",
              "      <td>math</td>\n",
              "      <td>590bdec1f4aeb5737e1de74b</td>\n",
              "      <td>196</td>\n",
              "      <td>0</td>\n",
              "      <td>2018-12-02 15:01:27</td>\n",
              "      <td>2018-12-02 15:03:28</td>\n",
              "      <td>schoolg/20181202-14-39/attention_f0fe6b76a13a.log</td>\n",
              "      <td>1</td>\n",
              "      <td>2</td>\n",
              "      <td>0</td>\n",
              "      <td>https://attention-difficulty.s3.us-east-2.amaz...</td>\n",
              "      <td>38.327044</td>\n",
              "      <td>38.327044</td>\n",
              "      <td>True</td>\n",
              "      <td>121.0</td>\n",
              "    </tr>\n",
              "  </tbody>\n",
              "</table>\n",
              "</div>"
            ],
            "text/plain": [
              "   Unnamed: 0           user_id subject  ... avg_attention   avg  time_spent\n",
              "0           0  6840100808795007    math  ...     38.327044  True       226.0\n",
              "1           1  6840100808795007    math  ...     38.327044  True       234.0\n",
              "2           2  6840100808795007    math  ...     38.327044  True       122.0\n",
              "3           3  6840100808795007    math  ...     38.327044  True        57.0\n",
              "4           4  6840100808795007    math  ...     38.327044  True       121.0\n",
              "\n",
              "[5 rows x 17 columns]"
            ]
          },
          "metadata": {
            "tags": []
          },
          "execution_count": 5
        }
      ]
    },
    {
      "cell_type": "code",
      "metadata": {
        "id": "PPaVJGvYL4Z9",
        "colab_type": "code",
        "outputId": "8bbecac6-3aae-493a-ff36-3d8ab769c4f6",
        "colab": {
          "base_uri": "https://localhost:8080/",
          "height": 319
        }
      },
      "source": [
        "# analysis\n",
        "import seaborn as sns; sns.set()\n",
        "import matplotlib.pyplot as plt\n",
        "ax = sns.scatterplot(x='time_spent', y='specific_attention', data=dropped)\n",
        "plt.show()"
      ],
      "execution_count": 0,
      "outputs": [
        {
          "output_type": "stream",
          "text": [
            "/usr/local/lib/python3.6/dist-packages/statsmodels/tools/_testing.py:19: FutureWarning: pandas.util.testing is deprecated. Use the functions in the public API at pandas.testing instead.\n",
            "  import pandas.util.testing as tm\n"
          ],
          "name": "stderr"
        },
        {
          "output_type": "display_data",
          "data": {
            "image/png": "[encoded data removed]",
            "text/plain": [
              "<Figure size 432x288 with 1 Axes>"
            ]
          },
          "metadata": {
            "tags": []
          }
        }
      ]
    },
    {
      "cell_type": "code",
      "metadata": {
        "id": "_TEIbE1VL4Z_",
        "colab_type": "code",
        "colab": {}
      },
      "source": [
        "# further cleanup \n",
        "dropped = dropped[(dropped['time_spent'] < 10000)]\n",
        "dropped = dropped[(dropped['specific_attention'] != 0)]"
      ],
      "execution_count": 0,
      "outputs": []
    },
    {
      "cell_type": "code",
      "metadata": {
        "id": "0quLKDmjpFfD",
        "colab_type": "code",
        "outputId": "762933b3-8804-479f-dbe6-5eb0a9e0e0f7",
        "colab": {
          "base_uri": "https://localhost:8080/",
          "height": 204
        }
      },
      "source": [
        "time_spent = dropped.copy()\n",
        "time_spent['logged'] = np.log10(dropped['time_spent'])\n",
        "t_v_d = time_spent[['logged', 'difficulty', 'specific_attention']]\n",
        "t_v_d.head()"
      ],
      "execution_count": 0,
      "outputs": [
        {
          "output_type": "execute_result",
          "data": {
            "text/html": [
              "<div>\n",
              "<style scoped>\n",
              "    .dataframe tbody tr th:only-of-type {\n",
              "        vertical-align: middle;\n",
              "    }\n",
              "\n",
              "    .dataframe tbody tr th {\n",
              "        vertical-align: top;\n",
              "    }\n",
              "\n",
              "    .dataframe thead th {\n",
              "        text-align: right;\n",
              "    }\n",
              "</style>\n",
              "<table border=\"1\" class=\"dataframe\">\n",
              "  <thead>\n",
              "    <tr style=\"text-align: right;\">\n",
              "      <th></th>\n",
              "      <th>logged</th>\n",
              "      <th>difficulty</th>\n",
              "      <th>specific_attention</th>\n",
              "    </tr>\n",
              "  </thead>\n",
              "  <tbody>\n",
              "    <tr>\n",
              "      <th>0</th>\n",
              "      <td>2.354108</td>\n",
              "      <td>2</td>\n",
              "      <td>38.327044</td>\n",
              "    </tr>\n",
              "    <tr>\n",
              "      <th>1</th>\n",
              "      <td>2.369216</td>\n",
              "      <td>2</td>\n",
              "      <td>38.327044</td>\n",
              "    </tr>\n",
              "    <tr>\n",
              "      <th>2</th>\n",
              "      <td>2.086360</td>\n",
              "      <td>2</td>\n",
              "      <td>38.327044</td>\n",
              "    </tr>\n",
              "    <tr>\n",
              "      <th>3</th>\n",
              "      <td>1.755875</td>\n",
              "      <td>2</td>\n",
              "      <td>38.327044</td>\n",
              "    </tr>\n",
              "    <tr>\n",
              "      <th>4</th>\n",
              "      <td>2.082785</td>\n",
              "      <td>2</td>\n",
              "      <td>38.327044</td>\n",
              "    </tr>\n",
              "  </tbody>\n",
              "</table>\n",
              "</div>"
            ],
            "text/plain": [
              "     logged  difficulty  specific_attention\n",
              "0  2.354108           2           38.327044\n",
              "1  2.369216           2           38.327044\n",
              "2  2.086360           2           38.327044\n",
              "3  1.755875           2           38.327044\n",
              "4  2.082785           2           38.327044"
            ]
          },
          "metadata": {
            "tags": []
          },
          "execution_count": 8
        }
      ]
    },
    {
      "cell_type": "code",
      "metadata": {
        "id": "4iY2M415piWS",
        "colab_type": "code",
        "outputId": "c7957ed1-3d7c-483a-9304-aaa28e281f84",
        "colab": {
          "base_uri": "https://localhost:8080/",
          "height": 359
        }
      },
      "source": [
        "tvd_grouped = t_v_d.groupby('difficulty').agg(list)\n",
        "tvd_grouped"
      ],
      "execution_count": 0,
      "outputs": [
        {
          "output_type": "execute_result",
          "data": {
            "text/html": [
              "<div>\n",
              "<style scoped>\n",
              "    .dataframe tbody tr th:only-of-type {\n",
              "        vertical-align: middle;\n",
              "    }\n",
              "\n",
              "    .dataframe tbody tr th {\n",
              "        vertical-align: top;\n",
              "    }\n",
              "\n",
              "    .dataframe thead th {\n",
              "        text-align: right;\n",
              "    }\n",
              "</style>\n",
              "<table border=\"1\" class=\"dataframe\">\n",
              "  <thead>\n",
              "    <tr style=\"text-align: right;\">\n",
              "      <th></th>\n",
              "      <th>logged</th>\n",
              "      <th>specific_attention</th>\n",
              "    </tr>\n",
              "    <tr>\n",
              "      <th>difficulty</th>\n",
              "      <th></th>\n",
              "      <th></th>\n",
              "    </tr>\n",
              "  </thead>\n",
              "  <tbody>\n",
              "    <tr>\n",
              "      <th>1</th>\n",
              "      <td>[1.5185139398778875, 2.2648178230095364, 1.079...</td>\n",
              "      <td>[52.24242424242424, 54.84239130434783, 50.8333...</td>\n",
              "    </tr>\n",
              "    <tr>\n",
              "      <th>2</th>\n",
              "      <td>[2.3541084391474008, 2.369215857410143, 2.0863...</td>\n",
              "      <td>[38.32704402515724, 38.32704402515724, 38.3270...</td>\n",
              "    </tr>\n",
              "    <tr>\n",
              "      <th>3</th>\n",
              "      <td>[1.2787536009528289, 1.4313637641589874, 1.361...</td>\n",
              "      <td>[51.66239027683997, 51.66239027683997, 51.6623...</td>\n",
              "    </tr>\n",
              "    <tr>\n",
              "      <th>4</th>\n",
              "      <td>[1.4771212547196624, 1.6334684555795866, 0.698...</td>\n",
              "      <td>[46.6, 46.930232558139544, 45.56345494231369, ...</td>\n",
              "    </tr>\n",
              "    <tr>\n",
              "      <th>5</th>\n",
              "      <td>[1.2041199826559248, 1.3617278360175928, 1.505...</td>\n",
              "      <td>[37.834754098360655, 37.834754098360655, 61.34...</td>\n",
              "    </tr>\n",
              "    <tr>\n",
              "      <th>6</th>\n",
              "      <td>[1.806179973983887, 1.6812412373755872, 1.3979...</td>\n",
              "      <td>[36.28125, 47.4375, 50.28, 55.5, 61.6428571428...</td>\n",
              "    </tr>\n",
              "    <tr>\n",
              "      <th>7</th>\n",
              "      <td>[2.3096301674258988, 1.99563519459755, 2.06818...</td>\n",
              "      <td>[56.941176470588225, 58.36363636363637, 50.072...</td>\n",
              "    </tr>\n",
              "    <tr>\n",
              "      <th>8</th>\n",
              "      <td>[1.9637878273455553, 1.3424226808222062, 1.544...</td>\n",
              "      <td>[37.834754098360655, 37.834754098360655, 49.97...</td>\n",
              "    </tr>\n",
              "    <tr>\n",
              "      <th>9</th>\n",
              "      <td>[3.2727695865517594, 3.042181594515766, 2.4653...</td>\n",
              "      <td>[59.52186588921282, 51.63214670981661, 46.9876...</td>\n",
              "    </tr>\n",
              "  </tbody>\n",
              "</table>\n",
              "</div>"
            ],
            "text/plain": [
              "                                                       logged                                 specific_attention\n",
              "difficulty                                                                                                      \n",
              "1           [1.5185139398778875, 2.2648178230095364, 1.079...  [52.24242424242424, 54.84239130434783, 50.8333...\n",
              "2           [2.3541084391474008, 2.369215857410143, 2.0863...  [38.32704402515724, 38.32704402515724, 38.3270...\n",
              "3           [1.2787536009528289, 1.4313637641589874, 1.361...  [51.66239027683997, 51.66239027683997, 51.6623...\n",
              "4           [1.4771212547196624, 1.6334684555795866, 0.698...  [46.6, 46.930232558139544, 45.56345494231369, ...\n",
              "5           [1.2041199826559248, 1.3617278360175928, 1.505...  [37.834754098360655, 37.834754098360655, 61.34...\n",
              "6           [1.806179973983887, 1.6812412373755872, 1.3979...  [36.28125, 47.4375, 50.28, 55.5, 61.6428571428...\n",
              "7           [2.3096301674258988, 1.99563519459755, 2.06818...  [56.941176470588225, 58.36363636363637, 50.072...\n",
              "8           [1.9637878273455553, 1.3424226808222062, 1.544...  [37.834754098360655, 37.834754098360655, 49.97...\n",
              "9           [3.2727695865517594, 3.042181594515766, 2.4653...  [59.52186588921282, 51.63214670981661, 46.9876..."
            ]
          },
          "metadata": {
            "tags": []
          },
          "execution_count": 9
        }
      ]
    },
    {
      "cell_type": "code",
      "metadata": {
        "id": "QIs3ymh1p_B4",
        "colab_type": "code",
        "outputId": "d53bb038-c476-4499-87a2-56bfd70ea5d4",
        "colab": {
          "base_uri": "https://localhost:8080/",
          "height": 422
        }
      },
      "source": [
        "dictionary = dict(zip(tvd_grouped.index, tvd_grouped['specific_attention'].values))\n",
        "fig, ax = plt.subplots();\n",
        "ax.boxplot(dictionary.values());\n",
        "ax.set_xticklabels(dictionary.keys());\n",
        "plt.xlabel('Difficulty');\n",
        "plt.ylabel('Attention');"
      ],
      "execution_count": 0,
      "outputs": [
        {
          "output_type": "stream",
          "text": [
            "/usr/local/lib/python3.6/dist-packages/matplotlib/cbook/__init__.py:1239: RuntimeWarning: invalid value encountered in less_equal\n",
            "  wiskhi = x[x <= hival]\n",
            "/usr/local/lib/python3.6/dist-packages/matplotlib/cbook/__init__.py:1246: RuntimeWarning: invalid value encountered in greater_equal\n",
            "  wisklo = x[x >= loval]\n",
            "/usr/local/lib/python3.6/dist-packages/matplotlib/cbook/__init__.py:1254: RuntimeWarning: invalid value encountered in less\n",
            "  x[x < stats['whislo']],\n",
            "/usr/local/lib/python3.6/dist-packages/matplotlib/cbook/__init__.py:1255: RuntimeWarning: invalid value encountered in greater\n",
            "  x[x > stats['whishi']],\n"
          ],
          "name": "stderr"
        },
        {
          "output_type": "display_data",
          "data": {
            "image/png": "[encoded data removed]",
            "text/plain": [
              "<Figure size 432x288 with 1 Axes>"
            ]
          },
          "metadata": {
            "tags": []
          }
        }
      ]
    },
    {
      "cell_type": "code",
      "metadata": {
        "id": "-Ml7koFyruEP",
        "colab_type": "code",
        "outputId": "372e244d-4f80-4160-e725-7219db584d8c",
        "colab": {
          "base_uri": "https://localhost:8080/",
          "height": 285
        }
      },
      "source": [
        "dictionary = dict(zip(tvd_grouped.index, tvd_grouped['logged'].values))\n",
        "fig, ax = plt.subplots();\n",
        "ax.boxplot(dictionary.values());\n",
        "ax.set_xticklabels(dictionary.keys());\n",
        "plt.xlabel('Difficulty');\n",
        "plt.ylabel('Time Spent');"
      ],
      "execution_count": 0,
      "outputs": [
        {
          "output_type": "display_data",
          "data": {
            "image/png": "[encoded data removed]",
            "text/plain": [
              "<Figure size 432x288 with 1 Axes>"
            ]
          },
          "metadata": {
            "tags": []
          }
        }
      ]
    },
    {
      "cell_type": "code",
      "metadata": {
        "id": "-_VlczbJL4aB",
        "colab_type": "code",
        "outputId": "ed7b6658-7afe-4331-83b3-01ea526d92a6",
        "colab": {
          "base_uri": "https://localhost:8080/",
          "height": 285
        }
      },
      "source": [
        "ax = sns.scatterplot(x='time_spent', y='specific_attention', data=dropped)\n",
        "plt.show()"
      ],
      "execution_count": 0,
      "outputs": [
        {
          "output_type": "display_data",
          "data": {
            "image/png": "[encoded data removed]",
            "text/plain": [
              "<Figure size 432x288 with 1 Axes>"
            ]
          },
          "metadata": {
            "tags": []
          }
        }
      ]
    },
    {
      "cell_type": "code",
      "metadata": {
        "id": "CW5hpD-h_ynj",
        "colab_type": "code",
        "outputId": "c101ac88-9e5d-45aa-c7d4-d38ae2917ab8",
        "colab": {
          "base_uri": "https://localhost:8080/",
          "height": 285
        }
      },
      "source": [
        "dropped['log_time_spent'] = np.log10(dropped['time_spent'])\n",
        "ax = sns.scatterplot(x='log_time_spent', y='specific_attention', data=dropped)\n"
      ],
      "execution_count": 0,
      "outputs": [
        {
          "output_type": "display_data",
          "data": {
            "image/png": "[encoded data removed]",
            "text/plain": [
              "<Figure size 432x288 with 1 Axes>"
            ]
          },
          "metadata": {
            "tags": []
          }
        }
      ]
    },
    {
      "cell_type": "code",
      "metadata": {
        "id": "Qei5mlNwL4aD",
        "colab_type": "code",
        "outputId": "281f9719-7c79-42ca-c37d-c301b52cb1d8",
        "colab": {
          "base_uri": "https://localhost:8080/",
          "height": 285
        }
      },
      "source": [
        "ax = sns.scatterplot(x='difficulty', y='specific_attention', data=dropped)\n",
        "plt.show()"
      ],
      "execution_count": 0,
      "outputs": [
        {
          "output_type": "display_data",
          "data": {
            "image/png": "[encoded data removed]",
            "text/plain": [
              "<Figure size 432x288 with 1 Axes>"
            ]
          },
          "metadata": {
            "tags": []
          }
        }
      ]
    },
    {
      "cell_type": "code",
      "metadata": {
        "id": "G9ejMTG79ZYJ",
        "colab_type": "code",
        "outputId": "4c71c833-d19e-4331-dde4-dcb8c2621266",
        "colab": {
          "base_uri": "https://localhost:8080/",
          "height": 302
        }
      },
      "source": [
        "sns.distplot(dropped['specific_attention'])"
      ],
      "execution_count": 0,
      "outputs": [
        {
          "output_type": "execute_result",
          "data": {
            "text/plain": [
              "<matplotlib.axes._subplots.AxesSubplot at 0x7f9f6ac93b00>"
            ]
          },
          "metadata": {
            "tags": []
          },
          "execution_count": 15
        },
        {
          "output_type": "display_data",
          "data": {
            "image/png": "[encoded data removed]",
            "text/plain": [
              "<Figure size 432x288 with 1 Axes>"
            ]
          },
          "metadata": {
            "tags": []
          }
        }
      ]
    },
    {
      "cell_type": "code",
      "metadata": {
        "id": "cu8nS_5B9rkW",
        "colab_type": "code",
        "outputId": "06191490-0998-4160-a702-d515d454e13b",
        "colab": {
          "base_uri": "https://localhost:8080/",
          "height": 302
        }
      },
      "source": [
        "sns.boxplot(dropped['specific_attention'])"
      ],
      "execution_count": 0,
      "outputs": [
        {
          "output_type": "execute_result",
          "data": {
            "text/plain": [
              "<matplotlib.axes._subplots.AxesSubplot at 0x7f9f6ac475f8>"
            ]
          },
          "metadata": {
            "tags": []
          },
          "execution_count": 16
        },
        {
          "output_type": "display_data",
          "data": {
            "image/png": "[encoded data removed]",
            "text/plain": [
              "<Figure size 432x288 with 1 Axes>"
            ]
          },
          "metadata": {
            "tags": []
          }
        }
      ]
    },
    {
      "cell_type": "code",
      "metadata": {
        "id": "kk0cf5gi0L0A",
        "colab_type": "code",
        "outputId": "21c8ca02-4bc7-4d17-ddc7-34e3a42c070d",
        "colab": {
          "base_uri": "https://localhost:8080/",
          "height": 34
        }
      },
      "source": [
        "dropped['specific_attention'].std()"
      ],
      "execution_count": 0,
      "outputs": [
        {
          "output_type": "execute_result",
          "data": {
            "text/plain": [
              "11.237092315028672"
            ]
          },
          "metadata": {
            "tags": []
          },
          "execution_count": 17
        }
      ]
    },
    {
      "cell_type": "code",
      "metadata": {
        "id": "TNCReJ-ECzPo",
        "colab_type": "code",
        "outputId": "d093b7b2-7747-473a-fde1-cbb4f046625e",
        "colab": {
          "base_uri": "https://localhost:8080/",
          "height": 286
        }
      },
      "source": [
        "diff_grouped = dropped.groupby('difficulty').mean().reset_index()\n",
        "ax = sns.scatterplot(x='difficulty', y='specific_attention', data=diff_grouped)\n",
        "plt.show()"
      ],
      "execution_count": 0,
      "outputs": [
        {
          "output_type": "display_data",
          "data": {
            "image/png": "[encoded data removed]",
            "text/plain": [
              "<Figure size 432x288 with 1 Axes>"
            ]
          },
          "metadata": {
            "tags": []
          }
        }
      ]
    },
    {
      "cell_type": "code",
      "metadata": {
        "id": "aWbJhRMnAhx1",
        "colab_type": "code",
        "outputId": "96020668-3f5c-470e-fae9-abcdd3ac4bde",
        "colab": {
          "base_uri": "https://localhost:8080/",
          "height": 320
        }
      },
      "source": [
        "# shows above plot in a bin scattered lineplot based on subject \n",
        "grouped = dropped.groupby(['subject', 'difficulty']).mean().reset_index()\n",
        "ax = sns.lineplot(x='difficulty', y='specific_attention', data=dropped, hue='subject', );\n",
        "plt.xticks(size=16);\n",
        "plt.yticks(size=16);\n",
        "plt.xlabel('Difficulty', size=18);\n",
        "plt.ylabel('Attention', size=18);\n",
        "ax.set_title('Scatterplot of Difficulty vs Attention by Subject', size=24);"
      ],
      "execution_count": 0,
      "outputs": [
        {
          "output_type": "display_data",
          "data": {
            "image/png": "[encoded data removed]",
            "text/plain": [
              "<Figure size 432x288 with 1 Axes>"
            ]
          },
          "metadata": {
            "tags": []
          }
        }
      ]
    },
    {
      "cell_type": "code",
      "metadata": {
        "id": "hNeZqa8wL4aF",
        "colab_type": "code",
        "outputId": "1520d8db-c7b4-476b-f060-9b192c14e66a",
        "colab": {
          "base_uri": "https://localhost:8080/",
          "height": 119
        }
      },
      "source": [
        "# split into X and Y \n",
        "print(dropped.shape)\n",
        "print(dropped.dropna().shape)\n",
        "\n",
        "dropped.dropna(inplace=True)\n",
        "data = dropped[['subject', 'stime', 'ctime', 'difficulty', 'time_spent', 'is_right_x', 'log_time_spent']]\n",
        "target = dropped['specific_attention']\n",
        "\n",
        "print(data.shape)\n",
        "print(data.dropna().shape)\n",
        "print(target.shape)\n",
        "print(target.dropna().shape)"
      ],
      "execution_count": 0,
      "outputs": [
        {
          "output_type": "stream",
          "text": [
            "(3280, 18)\n",
            "(3188, 18)\n",
            "(3188, 7)\n",
            "(3188, 7)\n",
            "(3188,)\n",
            "(3188,)\n"
          ],
          "name": "stdout"
        }
      ]
    },
    {
      "cell_type": "code",
      "metadata": {
        "id": "oJ15yDvUL4aH",
        "colab_type": "code",
        "outputId": "6c0e8637-e17e-47b9-ce23-ded05baacedf",
        "colab": {
          "base_uri": "https://localhost:8080/",
          "height": 204
        }
      },
      "source": [
        "from sklearn.preprocessing import LabelEncoder\n",
        "\n",
        "encoded_data = data[['subject', 'log_time_spent', 'is_right_x', 'difficulty']]\n",
        "encoded_data = encoded_data.select_dtypes(exclude=['number']).apply(LabelEncoder().fit_transform).join(encoded_data.select_dtypes(include=['number']))\n",
        "encoded_data.head()"
      ],
      "execution_count": 0,
      "outputs": [
        {
          "output_type": "execute_result",
          "data": {
            "text/html": [
              "<div>\n",
              "<style scoped>\n",
              "    .dataframe tbody tr th:only-of-type {\n",
              "        vertical-align: middle;\n",
              "    }\n",
              "\n",
              "    .dataframe tbody tr th {\n",
              "        vertical-align: top;\n",
              "    }\n",
              "\n",
              "    .dataframe thead th {\n",
              "        text-align: right;\n",
              "    }\n",
              "</style>\n",
              "<table border=\"1\" class=\"dataframe\">\n",
              "  <thead>\n",
              "    <tr style=\"text-align: right;\">\n",
              "      <th></th>\n",
              "      <th>subject</th>\n",
              "      <th>log_time_spent</th>\n",
              "      <th>is_right_x</th>\n",
              "      <th>difficulty</th>\n",
              "    </tr>\n",
              "  </thead>\n",
              "  <tbody>\n",
              "    <tr>\n",
              "      <th>0</th>\n",
              "      <td>2</td>\n",
              "      <td>2.354108</td>\n",
              "      <td>0</td>\n",
              "      <td>2</td>\n",
              "    </tr>\n",
              "    <tr>\n",
              "      <th>1</th>\n",
              "      <td>2</td>\n",
              "      <td>2.369216</td>\n",
              "      <td>0</td>\n",
              "      <td>2</td>\n",
              "    </tr>\n",
              "    <tr>\n",
              "      <th>2</th>\n",
              "      <td>2</td>\n",
              "      <td>2.086360</td>\n",
              "      <td>0</td>\n",
              "      <td>2</td>\n",
              "    </tr>\n",
              "    <tr>\n",
              "      <th>3</th>\n",
              "      <td>2</td>\n",
              "      <td>1.755875</td>\n",
              "      <td>1</td>\n",
              "      <td>2</td>\n",
              "    </tr>\n",
              "    <tr>\n",
              "      <th>4</th>\n",
              "      <td>2</td>\n",
              "      <td>2.082785</td>\n",
              "      <td>0</td>\n",
              "      <td>2</td>\n",
              "    </tr>\n",
              "  </tbody>\n",
              "</table>\n",
              "</div>"
            ],
            "text/plain": [
              "   subject  log_time_spent  is_right_x  difficulty\n",
              "0        2        2.354108           0           2\n",
              "1        2        2.369216           0           2\n",
              "2        2        2.086360           0           2\n",
              "3        2        1.755875           1           2\n",
              "4        2        2.082785           0           2"
            ]
          },
          "metadata": {
            "tags": []
          },
          "execution_count": 21
        }
      ]
    },
    {
      "cell_type": "code",
      "metadata": {
        "id": "uK6CzR8YEnYn",
        "colab_type": "code",
        "outputId": "0cdd15a6-ae4d-4558-b9fa-aa2e84fdc7d4",
        "colab": {
          "base_uri": "https://localhost:8080/",
          "height": 51
        }
      },
      "source": [
        "print(encoded_data.shape)\n",
        "print(encoded_data.dropna().shape)"
      ],
      "execution_count": 0,
      "outputs": [
        {
          "output_type": "stream",
          "text": [
            "(3188, 4)\n",
            "(3188, 4)\n"
          ],
          "name": "stdout"
        }
      ]
    },
    {
      "cell_type": "markdown",
      "metadata": {
        "id": "xdqBfmEV4tcH",
        "colab_type": "text"
      },
      "source": [
        "# Modeling using an SVM\n",
        "\n",
        "Can we predict attention from question features? What is the correlation between features in the MUTLA question data and the question-specific attention readings retrieved from the brainwave scans?"
      ]
    },
    {
      "cell_type": "code",
      "metadata": {
        "id": "_P6fId38L4aJ",
        "colab_type": "code",
        "colab": {}
      },
      "source": [
        "from sklearn.model_selection import train_test_split\n",
        "from sklearn.linear_model import LinearRegression\n",
        "from sklearn.svm import SVR\n",
        "\n",
        "x_train, x_test, y_train, y_test = train_test_split(encoded_data, target, test_size=0.1)\n",
        "model = SVR() # TODO: play with parameters "
      ],
      "execution_count": 0,
      "outputs": []
    },
    {
      "cell_type": "code",
      "metadata": {
        "id": "ipBJrz3rL4aK",
        "colab_type": "code",
        "outputId": "0b340250-eba0-464f-f654-96962c6daf84",
        "colab": {
          "base_uri": "https://localhost:8080/",
          "height": 34
        }
      },
      "source": [
        "model.fit(x_train, y_train)\n",
        "predictions = model.predict(x_test)\n",
        "score = model.score(x_test, y_test)\n",
        "print(score)"
      ],
      "execution_count": 0,
      "outputs": [
        {
          "output_type": "stream",
          "text": [
            "-0.03516199123771924\n"
          ],
          "name": "stdout"
        }
      ]
    },
    {
      "cell_type": "markdown",
      "metadata": {
        "id": "1SGuCmdGI62C",
        "colab_type": "text"
      },
      "source": [
        "Getting a low R^2 score (~0) indicates that the features used (such as Difficulty, Time Spent, etc.) have no stronger a correlation to the target (Question-Specific Attention) than a horizontal line. This could be due to (a) invalid hypothesis that difficulty and attention are related, (b) data noise -- a known issue with brainwave data, (c) variability among students wearing the devices and the different sequences of completed questions."
      ]
    },
    {
      "cell_type": "code",
      "metadata": {
        "id": "vVP02Tf3_aIu",
        "colab_type": "code",
        "outputId": "65f815a3-2606-434f-d792-cf46fd867165",
        "colab": {
          "base_uri": "https://localhost:8080/",
          "height": 34
        }
      },
      "source": [
        "from sklearn.metrics import mean_squared_error\n",
        "\n",
        "rmse = np.sqrt(mean_squared_error(predictions, y_test))\n",
        "print('Test RMSE: %.3f' % rmse)"
      ],
      "execution_count": 0,
      "outputs": [
        {
          "output_type": "stream",
          "text": [
            "Test RMSE: 11.735\n"
          ],
          "name": "stdout"
        }
      ]
    },
    {
      "cell_type": "code",
      "metadata": {
        "id": "l2TSxPx-HNGA",
        "colab_type": "code",
        "outputId": "4b473074-4312-445a-efff-e845c8b32a9f",
        "colab": {
          "base_uri": "https://localhost:8080/",
          "height": 204
        }
      },
      "source": [
        "x_train.head()"
      ],
      "execution_count": 0,
      "outputs": [
        {
          "output_type": "execute_result",
          "data": {
            "text/html": [
              "<div>\n",
              "<style scoped>\n",
              "    .dataframe tbody tr th:only-of-type {\n",
              "        vertical-align: middle;\n",
              "    }\n",
              "\n",
              "    .dataframe tbody tr th {\n",
              "        vertical-align: top;\n",
              "    }\n",
              "\n",
              "    .dataframe thead th {\n",
              "        text-align: right;\n",
              "    }\n",
              "</style>\n",
              "<table border=\"1\" class=\"dataframe\">\n",
              "  <thead>\n",
              "    <tr style=\"text-align: right;\">\n",
              "      <th></th>\n",
              "      <th>subject</th>\n",
              "      <th>log_time_spent</th>\n",
              "      <th>is_right_x</th>\n",
              "      <th>difficulty</th>\n",
              "    </tr>\n",
              "  </thead>\n",
              "  <tbody>\n",
              "    <tr>\n",
              "      <th>1384</th>\n",
              "      <td>2</td>\n",
              "      <td>1.991226</td>\n",
              "      <td>1</td>\n",
              "      <td>5</td>\n",
              "    </tr>\n",
              "    <tr>\n",
              "      <th>380</th>\n",
              "      <td>3</td>\n",
              "      <td>2.745855</td>\n",
              "      <td>1</td>\n",
              "      <td>5</td>\n",
              "    </tr>\n",
              "    <tr>\n",
              "      <th>3333</th>\n",
              "      <td>0</td>\n",
              "      <td>2.394452</td>\n",
              "      <td>0</td>\n",
              "      <td>3</td>\n",
              "    </tr>\n",
              "    <tr>\n",
              "      <th>3324</th>\n",
              "      <td>0</td>\n",
              "      <td>2.025306</td>\n",
              "      <td>0</td>\n",
              "      <td>3</td>\n",
              "    </tr>\n",
              "    <tr>\n",
              "      <th>3079</th>\n",
              "      <td>1</td>\n",
              "      <td>1.146128</td>\n",
              "      <td>0</td>\n",
              "      <td>2</td>\n",
              "    </tr>\n",
              "  </tbody>\n",
              "</table>\n",
              "</div>"
            ],
            "text/plain": [
              "      subject  log_time_spent  is_right_x  difficulty\n",
              "1384        2        1.991226           1           5\n",
              "380         3        2.745855           1           5\n",
              "3333        0        2.394452           0           3\n",
              "3324        0        2.025306           0           3\n",
              "3079        1        1.146128           0           2"
            ]
          },
          "metadata": {
            "tags": []
          },
          "execution_count": 26
        }
      ]
    },
    {
      "cell_type": "code",
      "metadata": {
        "id": "myWoJP_3GgGx",
        "colab_type": "code",
        "outputId": "cc40e348-5631-4cbe-9749-58ebf178874f",
        "colab": {
          "base_uri": "https://localhost:8080/",
          "height": 289
        }
      },
      "source": [
        "sns.scatterplot(x=x_test['difficulty'], y=y_test)\n",
        "sns.scatterplot(x=x_test['difficulty'], y=predictions)\n",
        "plt.ylim(0,100)\n",
        "plt.show()"
      ],
      "execution_count": 0,
      "outputs": [
        {
          "output_type": "display_data",
          "data": {
            "image/png": "[encoded data removed]",
            "text/plain": [
              "<Figure size 432x288 with 1 Axes>"
            ]
          },
          "metadata": {
            "tags": []
          }
        }
      ]
    },
    {
      "cell_type": "code",
      "metadata": {
        "id": "18u-3oWKG-60",
        "colab_type": "code",
        "outputId": "d1069b6a-beb9-477c-d098-58e1859fe565",
        "colab": {
          "base_uri": "https://localhost:8080/",
          "height": 585
        }
      },
      "source": [
        "sns.scatterplot(x=x_test['difficulty'], y=y_test)\n",
        "plt.title('Difficulty vs. True Attention Readings')\n",
        "plt.ylim(0,100)\n",
        "plt.show()\n",
        "sns.scatterplot(x=x_test['difficulty'], y=predictions)\n",
        "plt.title('Difficulty vs. Pred Attention Readings')\n",
        "plt.ylim(0,100)\n",
        "plt.show()"
      ],
      "execution_count": 0,
      "outputs": [
        {
          "output_type": "display_data",
          "data": {
            "image/png": "[encoded data removed]",
            "text/plain": [
              "<Figure size 432x288 with 1 Axes>"
            ]
          },
          "metadata": {
            "tags": []
          }
        },
        {
          "output_type": "display_data",
          "data": {
            "image/png": "[encoded data removed]",
            "text/plain": [
              "<Figure size 432x288 with 1 Axes>"
            ]
          },
          "metadata": {
            "tags": []
          }
        }
      ]
    },
    {
      "cell_type": "code",
      "metadata": {
        "id": "P5DbI3THHlbp",
        "colab_type": "code",
        "outputId": "613b061c-dc1a-4ec2-a5d0-00b7da1ff353",
        "colab": {
          "base_uri": "https://localhost:8080/",
          "height": 585
        }
      },
      "source": [
        "sns.scatterplot(x=x_test['subject'], y=y_test)\n",
        "plt.title('Subject vs. True Attention Readings')\n",
        "plt.ylim(0,100)\n",
        "plt.show()\n",
        "sns.scatterplot(x=x_test['subject'], y=predictions)\n",
        "plt.title('Subject vs. Pred Attention Readings')\n",
        "plt.ylim(0,100)\n",
        "plt.show()"
      ],
      "execution_count": 0,
      "outputs": [
        {
          "output_type": "display_data",
          "data": {
            "image/png": "[encoded data removed]",
            "text/plain": [
              "<Figure size 432x288 with 1 Axes>"
            ]
          },
          "metadata": {
            "tags": []
          }
        },
        {
          "output_type": "display_data",
          "data": {
            "image/png": "[encoded data removed]",
            "text/plain": [
              "<Figure size 432x288 with 1 Axes>"
            ]
          },
          "metadata": {
            "tags": []
          }
        }
      ]
    },
    {
      "cell_type": "markdown",
      "metadata": {
        "id": "2C_Hdd4T0-NR",
        "colab_type": "text"
      },
      "source": [
        "# Sequence prediction task\n",
        "\n",
        "Let's see if we can better model attention from students' questions and responses using a recurrent network.\n",
        "\n",
        "1. Determine if questions were asked in a specific sequence\n",
        "2. If so, find the longest subsequence of questions common to all students. If not find out the longest, most common subsequences of questions. If none exist (i.e. questions appear to be randomized and/or matched sequences are quite short), match sequences more broadly on difficulty sequences.\n",
        "3. Make an array of dim [#students, #questions, #features] to feed to the RNN \n",
        "4. Use RNN to predict each student's expected attention based on the features and the question history so far"
      ]
    },
    {
      "cell_type": "markdown",
      "metadata": {
        "id": "kbZAoIO4-GuD",
        "colab_type": "text"
      },
      "source": [
        "Note: For the RNN, since it appears that there weren't any sequences of questions that all (or even more than 7) students had to do, I decided to model on difficulty sequences instead -- the questions in any sequence are in done in chronological order by the same student but they may be from different subjects, have large gaps of time between problems, etc. Additionally, to simplify the problem, I restricted the sequence length to 10. This number is long enough, easy to work with, and there also happen to be a variety of length-10 difficulty sequences that are common throughout the data. Therefore our model now predicts attention score from sequential (but possibly mixed) length-10 response data using features like difficulty, response correctness, subject, and time_spent but disregards matching question sequences by subject, actual question text, or sitting time."
      ]
    },
    {
      "cell_type": "code",
      "metadata": {
        "id": "rAbX_6nKIIUJ",
        "colab_type": "code",
        "colab": {}
      },
      "source": [
        "import pandas as pd\n",
        "import numpy as np\n",
        "csv_data = pd.read_csv('https://attention-difficulty.s3.us-east-2.amazonaws.com/mutla-final-data.csv',delimiter=',')\n",
        "avg_data = pd.read_csv('https://attention-difficulty.s3.us-east-2.amazonaws.com/mutla-averaged-attention.csv')"
      ],
      "execution_count": 0,
      "outputs": []
    },
    {
      "cell_type": "code",
      "metadata": {
        "id": "M55QAzkx2DlT",
        "colab_type": "code",
        "outputId": "a933868b-9bc0-4342-f06a-fdc22c403e00",
        "colab": {
          "base_uri": "https://localhost:8080/",
          "height": 717
        }
      },
      "source": [
        "df = pd.merge(csv_data, avg_data)\n",
        "df['avg'] = df['specific_attention'].isnull()\n",
        "df['specific_attention'] = df.specific_attention.fillna(df['avg_attention']) # fill specific attention with the avg_attention from the avg_data df\n",
        "df['ctime'] = pd.to_datetime(df['ctime'])\n",
        "df['stime'] = pd.to_datetime(df['stime'])\n",
        "df['time_spent'] = (df['ctime'] - df['stime']).astype('timedelta64[s]')\n",
        "print(len(df) - df.count())\n",
        "df.dropna(inplace=True)\n",
        "df.head()"
      ],
      "execution_count": 0,
      "outputs": [
        {
          "output_type": "stream",
          "text": [
            "Unnamed: 0                           0\n",
            "user_id                              0\n",
            "subject                              0\n",
            "question_id                          0\n",
            "school_id                            0\n",
            "is_right_x                           0\n",
            "stime                                0\n",
            "ctime                                0\n",
            "brainwave_file_path_attention        0\n",
            "school_index                         0\n",
            "difficulty                           0\n",
            "is_right_y                           0\n",
            "s3_brainwave_file_path_attention     0\n",
            "specific_attention                  92\n",
            "avg_attention                       92\n",
            "avg                                  0\n",
            "time_spent                           0\n",
            "dtype: int64\n"
          ],
          "name": "stdout"
        },
        {
          "output_type": "execute_result",
          "data": {
            "text/html": [
              "<div>\n",
              "<style scoped>\n",
              "    .dataframe tbody tr th:only-of-type {\n",
              "        vertical-align: middle;\n",
              "    }\n",
              "\n",
              "    .dataframe tbody tr th {\n",
              "        vertical-align: top;\n",
              "    }\n",
              "\n",
              "    .dataframe thead th {\n",
              "        text-align: right;\n",
              "    }\n",
              "</style>\n",
              "<table border=\"1\" class=\"dataframe\">\n",
              "  <thead>\n",
              "    <tr style=\"text-align: right;\">\n",
              "      <th></th>\n",
              "      <th>Unnamed: 0</th>\n",
              "      <th>user_id</th>\n",
              "      <th>subject</th>\n",
              "      <th>question_id</th>\n",
              "      <th>school_id</th>\n",
              "      <th>is_right_x</th>\n",
              "      <th>stime</th>\n",
              "      <th>ctime</th>\n",
              "      <th>brainwave_file_path_attention</th>\n",
              "      <th>school_index</th>\n",
              "      <th>difficulty</th>\n",
              "      <th>is_right_y</th>\n",
              "      <th>s3_brainwave_file_path_attention</th>\n",
              "      <th>specific_attention</th>\n",
              "      <th>avg_attention</th>\n",
              "      <th>avg</th>\n",
              "      <th>time_spent</th>\n",
              "    </tr>\n",
              "  </thead>\n",
              "  <tbody>\n",
              "    <tr>\n",
              "      <th>0</th>\n",
              "      <td>0</td>\n",
              "      <td>6840100808795007</td>\n",
              "      <td>math</td>\n",
              "      <td>590bdec1f4aeb5737e1de73b</td>\n",
              "      <td>196</td>\n",
              "      <td>0</td>\n",
              "      <td>2018-12-02 14:50:24</td>\n",
              "      <td>2018-12-02 14:54:10</td>\n",
              "      <td>schoolg/20181202-14-39/attention_f0fe6b76a13a.log</td>\n",
              "      <td>1</td>\n",
              "      <td>2</td>\n",
              "      <td>0</td>\n",
              "      <td>https://attention-difficulty.s3.us-east-2.amaz...</td>\n",
              "      <td>38.327044</td>\n",
              "      <td>38.327044</td>\n",
              "      <td>True</td>\n",
              "      <td>226.0</td>\n",
              "    </tr>\n",
              "    <tr>\n",
              "      <th>1</th>\n",
              "      <td>1</td>\n",
              "      <td>6840100808795007</td>\n",
              "      <td>math</td>\n",
              "      <td>590bdec1f4aeb5737e1de73a</td>\n",
              "      <td>196</td>\n",
              "      <td>0</td>\n",
              "      <td>2018-12-02 14:54:32</td>\n",
              "      <td>2018-12-02 14:58:26</td>\n",
              "      <td>schoolg/20181202-14-39/attention_f0fe6b76a13a.log</td>\n",
              "      <td>1</td>\n",
              "      <td>2</td>\n",
              "      <td>0</td>\n",
              "      <td>https://attention-difficulty.s3.us-east-2.amaz...</td>\n",
              "      <td>38.327044</td>\n",
              "      <td>38.327044</td>\n",
              "      <td>True</td>\n",
              "      <td>234.0</td>\n",
              "    </tr>\n",
              "    <tr>\n",
              "      <th>2</th>\n",
              "      <td>2</td>\n",
              "      <td>6840100808795007</td>\n",
              "      <td>math</td>\n",
              "      <td>590bdec1f4aeb5737e1de74a</td>\n",
              "      <td>196</td>\n",
              "      <td>0</td>\n",
              "      <td>2018-12-02 14:58:27</td>\n",
              "      <td>2018-12-02 15:00:29</td>\n",
              "      <td>schoolg/20181202-14-39/attention_f0fe6b76a13a.log</td>\n",
              "      <td>1</td>\n",
              "      <td>2</td>\n",
              "      <td>0</td>\n",
              "      <td>https://attention-difficulty.s3.us-east-2.amaz...</td>\n",
              "      <td>38.327044</td>\n",
              "      <td>38.327044</td>\n",
              "      <td>True</td>\n",
              "      <td>122.0</td>\n",
              "    </tr>\n",
              "    <tr>\n",
              "      <th>3</th>\n",
              "      <td>3</td>\n",
              "      <td>6840100808795007</td>\n",
              "      <td>math</td>\n",
              "      <td>590bdec1f4aeb5737e1de749</td>\n",
              "      <td>196</td>\n",
              "      <td>1</td>\n",
              "      <td>2018-12-02 15:00:29</td>\n",
              "      <td>2018-12-02 15:01:26</td>\n",
              "      <td>schoolg/20181202-14-39/attention_f0fe6b76a13a.log</td>\n",
              "      <td>1</td>\n",
              "      <td>2</td>\n",
              "      <td>1</td>\n",
              "      <td>https://attention-difficulty.s3.us-east-2.amaz...</td>\n",
              "      <td>38.327044</td>\n",
              "      <td>38.327044</td>\n",
              "      <td>True</td>\n",
              "      <td>57.0</td>\n",
              "    </tr>\n",
              "    <tr>\n",
              "      <th>4</th>\n",
              "      <td>4</td>\n",
              "      <td>6840100808795007</td>\n",
              "      <td>math</td>\n",
              "      <td>590bdec1f4aeb5737e1de74b</td>\n",
              "      <td>196</td>\n",
              "      <td>0</td>\n",
              "      <td>2018-12-02 15:01:27</td>\n",
              "      <td>2018-12-02 15:03:28</td>\n",
              "      <td>schoolg/20181202-14-39/attention_f0fe6b76a13a.log</td>\n",
              "      <td>1</td>\n",
              "      <td>2</td>\n",
              "      <td>0</td>\n",
              "      <td>https://attention-difficulty.s3.us-east-2.amaz...</td>\n",
              "      <td>38.327044</td>\n",
              "      <td>38.327044</td>\n",
              "      <td>True</td>\n",
              "      <td>121.0</td>\n",
              "    </tr>\n",
              "  </tbody>\n",
              "</table>\n",
              "</div>"
            ],
            "text/plain": [
              "   Unnamed: 0           user_id subject  ... avg_attention   avg  time_spent\n",
              "0           0  6840100808795007    math  ...     38.327044  True       226.0\n",
              "1           1  6840100808795007    math  ...     38.327044  True       234.0\n",
              "2           2  6840100808795007    math  ...     38.327044  True       122.0\n",
              "3           3  6840100808795007    math  ...     38.327044  True        57.0\n",
              "4           4  6840100808795007    math  ...     38.327044  True       121.0\n",
              "\n",
              "[5 rows x 17 columns]"
            ]
          },
          "metadata": {
            "tags": []
          },
          "execution_count": 31
        }
      ]
    },
    {
      "cell_type": "code",
      "metadata": {
        "id": "WC2fiVPO2EBh",
        "colab_type": "code",
        "outputId": "369b56f1-fdb1-436a-ca58-9a074eb474dc",
        "colab": {
          "base_uri": "https://localhost:8080/",
          "height": 411
        }
      },
      "source": [
        "df.sort_values(['user_id', 'subject', 'question_id']).head()"
      ],
      "execution_count": 0,
      "outputs": [
        {
          "output_type": "execute_result",
          "data": {
            "text/html": [
              "<div>\n",
              "<style scoped>\n",
              "    .dataframe tbody tr th:only-of-type {\n",
              "        vertical-align: middle;\n",
              "    }\n",
              "\n",
              "    .dataframe tbody tr th {\n",
              "        vertical-align: top;\n",
              "    }\n",
              "\n",
              "    .dataframe thead th {\n",
              "        text-align: right;\n",
              "    }\n",
              "</style>\n",
              "<table border=\"1\" class=\"dataframe\">\n",
              "  <thead>\n",
              "    <tr style=\"text-align: right;\">\n",
              "      <th></th>\n",
              "      <th>Unnamed: 0</th>\n",
              "      <th>user_id</th>\n",
              "      <th>subject</th>\n",
              "      <th>question_id</th>\n",
              "      <th>school_id</th>\n",
              "      <th>is_right_x</th>\n",
              "      <th>stime</th>\n",
              "      <th>ctime</th>\n",
              "      <th>brainwave_file_path_attention</th>\n",
              "      <th>school_index</th>\n",
              "      <th>difficulty</th>\n",
              "      <th>is_right_y</th>\n",
              "      <th>s3_brainwave_file_path_attention</th>\n",
              "      <th>specific_attention</th>\n",
              "      <th>avg_attention</th>\n",
              "      <th>avg</th>\n",
              "      <th>time_spent</th>\n",
              "    </tr>\n",
              "  </thead>\n",
              "  <tbody>\n",
              "    <tr>\n",
              "      <th>3202</th>\n",
              "      <td>3202</td>\n",
              "      <td>44749</td>\n",
              "      <td>cn</td>\n",
              "      <td>31647</td>\n",
              "      <td>290</td>\n",
              "      <td>0</td>\n",
              "      <td>2018-12-01 08:22:19</td>\n",
              "      <td>2018-12-01 08:25:03</td>\n",
              "      <td>schooln/20181201-15-59/attention_f0fe6b55e1d2.log</td>\n",
              "      <td>1</td>\n",
              "      <td>2</td>\n",
              "      <td>0</td>\n",
              "      <td>https://attention-difficulty.s3.us-east-2.amaz...</td>\n",
              "      <td>46.424438</td>\n",
              "      <td>46.424438</td>\n",
              "      <td>True</td>\n",
              "      <td>164.0</td>\n",
              "    </tr>\n",
              "    <tr>\n",
              "      <th>3199</th>\n",
              "      <td>3199</td>\n",
              "      <td>44749</td>\n",
              "      <td>cn</td>\n",
              "      <td>31648</td>\n",
              "      <td>290</td>\n",
              "      <td>1</td>\n",
              "      <td>2018-12-01 08:13:25</td>\n",
              "      <td>2018-12-01 08:17:58</td>\n",
              "      <td>schooln/20181201-15-59/attention_f0fe6b55e1d2.log</td>\n",
              "      <td>1</td>\n",
              "      <td>2</td>\n",
              "      <td>1</td>\n",
              "      <td>https://attention-difficulty.s3.us-east-2.amaz...</td>\n",
              "      <td>46.424438</td>\n",
              "      <td>46.424438</td>\n",
              "      <td>True</td>\n",
              "      <td>273.0</td>\n",
              "    </tr>\n",
              "    <tr>\n",
              "      <th>3201</th>\n",
              "      <td>3201</td>\n",
              "      <td>44749</td>\n",
              "      <td>cn</td>\n",
              "      <td>31649</td>\n",
              "      <td>290</td>\n",
              "      <td>0</td>\n",
              "      <td>2018-12-01 08:17:58</td>\n",
              "      <td>2018-12-01 08:22:18</td>\n",
              "      <td>schooln/20181201-15-59/attention_f0fe6b55e1d2.log</td>\n",
              "      <td>1</td>\n",
              "      <td>3</td>\n",
              "      <td>0</td>\n",
              "      <td>https://attention-difficulty.s3.us-east-2.amaz...</td>\n",
              "      <td>46.424438</td>\n",
              "      <td>46.424438</td>\n",
              "      <td>True</td>\n",
              "      <td>260.0</td>\n",
              "    </tr>\n",
              "    <tr>\n",
              "      <th>3206</th>\n",
              "      <td>3206</td>\n",
              "      <td>44749</td>\n",
              "      <td>cn</td>\n",
              "      <td>31653</td>\n",
              "      <td>290</td>\n",
              "      <td>0</td>\n",
              "      <td>2018-12-01 08:46:26</td>\n",
              "      <td>2018-12-01 08:59:09</td>\n",
              "      <td>schooln/20181201-15-59/attention_f0fe6b55e1d2.log</td>\n",
              "      <td>1</td>\n",
              "      <td>2</td>\n",
              "      <td>0</td>\n",
              "      <td>https://attention-difficulty.s3.us-east-2.amaz...</td>\n",
              "      <td>46.424438</td>\n",
              "      <td>46.424438</td>\n",
              "      <td>True</td>\n",
              "      <td>763.0</td>\n",
              "    </tr>\n",
              "    <tr>\n",
              "      <th>3208</th>\n",
              "      <td>3208</td>\n",
              "      <td>44749</td>\n",
              "      <td>cn</td>\n",
              "      <td>31654</td>\n",
              "      <td>290</td>\n",
              "      <td>0</td>\n",
              "      <td>2018-12-01 08:59:15</td>\n",
              "      <td>2018-12-01 09:03:07</td>\n",
              "      <td>schooln/20181201-15-59/attention_f0fe6b55e1d2.log</td>\n",
              "      <td>1</td>\n",
              "      <td>2</td>\n",
              "      <td>0</td>\n",
              "      <td>https://attention-difficulty.s3.us-east-2.amaz...</td>\n",
              "      <td>46.424438</td>\n",
              "      <td>46.424438</td>\n",
              "      <td>True</td>\n",
              "      <td>232.0</td>\n",
              "    </tr>\n",
              "  </tbody>\n",
              "</table>\n",
              "</div>"
            ],
            "text/plain": [
              "      Unnamed: 0  user_id subject  ... avg_attention   avg  time_spent\n",
              "3202        3202    44749      cn  ...     46.424438  True       164.0\n",
              "3199        3199    44749      cn  ...     46.424438  True       273.0\n",
              "3201        3201    44749      cn  ...     46.424438  True       260.0\n",
              "3206        3206    44749      cn  ...     46.424438  True       763.0\n",
              "3208        3208    44749      cn  ...     46.424438  True       232.0\n",
              "\n",
              "[5 rows x 17 columns]"
            ]
          },
          "metadata": {
            "tags": []
          },
          "execution_count": 32
        }
      ]
    },
    {
      "cell_type": "markdown",
      "metadata": {
        "id": "22Li-X1z6E-W",
        "colab_type": "text"
      },
      "source": [
        "## Sequence Analysis\n",
        "\n",
        "(See note above)\n",
        "\n",
        "In analyzing the different sequences of questions, we discovered that students answered questions in different orders. The longest common subsequence of questions was only 4 questions long and was common to 7 students. Seeing as this makes sequence prediction impossible, we switched over to finding the longest common sequences by question difficulty instead. This strategy will allow us to match based on the difficulties of the sequences rather than the questions themselves. \n",
        "\n",
        "Through this approach, we found that we could easily use length-10 sequences of questions, as there are many common 10-length difficulty sequences. Therefore, our model will use information like question difficulty, response correctness, time spent, and/or question subject to predict the attention scores corresponding to each question in the sequence."
      ]
    },
    {
      "cell_type": "code",
      "metadata": {
        "id": "jtJGl-zDZSpL",
        "colab_type": "code",
        "outputId": "a8998fd2-c15a-4c27-eff0-0ef4ffadd33c",
        "colab": {
          "base_uri": "https://localhost:8080/",
          "height": 136
        }
      },
      "source": [
        "from sklearn.preprocessing import LabelEncoder\n",
        "\n",
        "stime_sort = df.sort_values(['user_id', 'stime'])\n",
        "stime_sort = stime_sort.select_dtypes(exclude=['number']).apply(LabelEncoder().fit_transform).join(stime_sort.select_dtypes(include=['number']))\n",
        "subset = stime_sort[['time_spent', 'specific_attention']]\n",
        "stime_sort[['time_spent', 'specific_attention']] = (subset-subset.min())/(subset.max()-subset.min())\n",
        "stime_sort = stime_sort[['subject', 'difficulty', 'specific_attention', 'user_id', 'is_right_x', 'time_spent']].astype('float32')\n",
        "print(stime_sort.dtypes)\n",
        "difficulty_sequences = {}\n",
        "for uid in stime_sort.user_id.unique():\n",
        "  per_user = stime_sort[(stime_sort['user_id']==uid)] # in chronological order by user (order/user is the only guarantee)\n",
        "  difficulty_sequences[uid] = list(zip(per_user.difficulty.tolist(), per_user.subject.tolist(), per_user.is_right_x.tolist(), per_user.time_spent.tolist(), per_user.specific_attention.tolist()))"
      ],
      "execution_count": 0,
      "outputs": [
        {
          "output_type": "stream",
          "text": [
            "subject               float32\n",
            "difficulty            float32\n",
            "specific_attention    float32\n",
            "user_id               float32\n",
            "is_right_x            float32\n",
            "time_spent            float32\n",
            "dtype: object\n"
          ],
          "name": "stdout"
        }
      ]
    },
    {
      "cell_type": "markdown",
      "metadata": {
        "id": "LYeFmA0h373o",
        "colab_type": "text"
      },
      "source": [
        "Find sequences of questions not based on what specific questions got answered but only on the difficulty rating of the questions in the sequence. These sequences can be from across different sequences but are answered chronologically"
      ]
    },
    {
      "cell_type": "code",
      "metadata": {
        "id": "-igZpOP9fFfl",
        "colab_type": "code",
        "outputId": "43976eb6-adbf-4b78-f0f9-ebf4a88fa5f1",
        "colab": {
          "base_uri": "https://localhost:8080/",
          "height": 799
        }
      },
      "source": [
        "stime_sort.groupby('user_id').size()"
      ],
      "execution_count": 0,
      "outputs": [
        {
          "output_type": "execute_result",
          "data": {
            "text/plain": [
              "user_id\n",
              "4.474900e+04      22\n",
              "4.475000e+04      66\n",
              "4.660500e+04      31\n",
              "4.760100e+04      25\n",
              "4.995600e+04      41\n",
              "4.998800e+04      49\n",
              "5.036900e+04      63\n",
              "5.037200e+04       6\n",
              "5.069800e+04      20\n",
              "5.202700e+04      15\n",
              "5.215100e+04      11\n",
              "5.634200e+04      25\n",
              "5.737900e+04      14\n",
              "5.913400e+04      17\n",
              "5.915200e+04      75\n",
              "6.795600e+04      12\n",
              "6.886800e+04      15\n",
              "6.887000e+04      10\n",
              "7.182300e+04      10\n",
              "7.182400e+04      26\n",
              "7.182700e+04      42\n",
              "7.182800e+04      26\n",
              "7.501300e+04      86\n",
              "7.540400e+04      24\n",
              "7.578300e+04      27\n",
              "7.578400e+04      10\n",
              "7.579700e+04       1\n",
              "7.579800e+04       6\n",
              "7.579900e+04      19\n",
              "7.580200e+04      57\n",
              "7.596100e+04      48\n",
              "7.596200e+04      29\n",
              "7.606700e+04       2\n",
              "7.609000e+04      24\n",
              "7.624100e+04      16\n",
              "7.825400e+04       9\n",
              "7.847200e+04      78\n",
              "7.870200e+04      46\n",
              "7.927600e+04      17\n",
              "7.984100e+04       4\n",
              "6.743483e+15      14\n",
              "6.840101e+15    1526\n",
              "6.860101e+15     128\n",
              "6.880101e+15     528\n",
              "dtype: int64"
            ]
          },
          "metadata": {
            "tags": []
          },
          "execution_count": 36
        }
      ]
    },
    {
      "cell_type": "code",
      "metadata": {
        "id": "VoXc2f2sZvF0",
        "colab_type": "code",
        "colab": {}
      },
      "source": [
        "sequences = list(difficulty_sequences.values())\n",
        "min_seq_length = 10\n",
        "seen = {}\n",
        "for seq in sequences:\n",
        "  difficulty_seq = [i[0] for i in seq]\n",
        "  for i in range(0, len(seq)-min_seq_length):\n",
        "    j = min(i+min_seq_length, len(seq))\n",
        "    # for j in range(min(i+min_seq_length, len(seq)), len(seq)):\n",
        "    subsequence = tuple(difficulty_seq[i:j])\n",
        "    if subsequence in seen:\n",
        "      seen[subsequence].append(seq[i:j])\n",
        "    else:\n",
        "      seen[subsequence] = [seq[i:j]]\n",
        "\n",
        "most_common = sorted(list(seen.values()), key=lambda x: len(x), reverse=True)"
      ],
      "execution_count": 0,
      "outputs": []
    },
    {
      "cell_type": "code",
      "metadata": {
        "id": "8OkOGdMoZ6ZE",
        "colab_type": "code",
        "outputId": "caf1f09e-2c89-480a-dcca-737d97b05981",
        "colab": {
          "base_uri": "https://localhost:8080/",
          "height": 34
        }
      },
      "source": [
        "min_occurrences = 4 # train on difficulty sequences that are somewhat common\n",
        "dataset = [i for i in most_common if len(i) > min_occurrences]\n",
        "responses = []\n",
        "for case in dataset:\n",
        "  responses.extend(case)\n",
        "responses = np.array(responses)\n",
        "print(responses.shape)"
      ],
      "execution_count": 0,
      "outputs": [
        {
          "output_type": "stream",
          "text": [
            "(617, 10, 5)\n"
          ],
          "name": "stdout"
        }
      ]
    },
    {
      "cell_type": "code",
      "metadata": {
        "id": "hGrEaCxCooRF",
        "colab_type": "code",
        "outputId": "c2fa9d6a-78c3-4807-f932-d5f0a3d1b5e0",
        "colab": {
          "base_uri": "https://localhost:8080/",
          "height": 255
        }
      },
      "source": [
        "# vector = ['difficulty', 'subject', 'is_right_x', 'time_spent', 'specific_attention']\n",
        "\n",
        "X, y = responses[:, :, :-1], responses[:, :, -1]\n",
        "print( \"example sequence of input vectors corresponding to 10 responses by a particular student\")\n",
        "print(X[1])\n",
        "print(\"example test output of the RNN model\")\n",
        "print(y[1])"
      ],
      "execution_count": 0,
      "outputs": [
        {
          "output_type": "stream",
          "text": [
            "example sequence of input vectors corresponding to 10 responses by a particular student\n",
            "[[2.00000000e+00 2.00000000e+00 1.00000000e+00 9.41824983e-05]\n",
            " [2.00000000e+00 2.00000000e+00 1.00000000e+00 3.28812574e-04]\n",
            " [2.00000000e+00 2.00000000e+00 1.00000000e+00 7.27022780e-05]\n",
            " [2.00000000e+00 2.00000000e+00 1.00000000e+00 1.96626614e-04]\n",
            " [2.00000000e+00 2.00000000e+00 1.00000000e+00 9.25301720e-05]\n",
            " [2.00000000e+00 2.00000000e+00 0.00000000e+00 3.04027693e-04]\n",
            " [2.00000000e+00 2.00000000e+00 1.00000000e+00 1.35490613e-04]\n",
            " [2.00000000e+00 2.00000000e+00 1.00000000e+00 6.93976253e-05]\n",
            " [2.00000000e+00 2.00000000e+00 0.00000000e+00 5.61790330e-05]\n",
            " [2.00000000e+00 2.00000000e+00 1.00000000e+00 8.88950599e-04]]\n",
            "example test output of the RNN model\n",
            "[0.61081004 0.61081004 0.64012349 0.64496201 0.59152049 0.58486962\n",
            " 0.69427907 0.61388886 0.48070747 0.61081004]\n"
          ],
          "name": "stdout"
        }
      ]
    },
    {
      "cell_type": "code",
      "metadata": {
        "id": "Tj987M-otYo6",
        "colab_type": "code",
        "colab": {}
      },
      "source": [
        "# 80% train test split\n",
        "train_pct = 0.8 \n",
        "msk = np.random.rand(len(X)) < train_pct \n",
        "X_train, X_test = X[msk], X[~msk]\n",
        "y_train, y_test = y[msk], y[~msk]\n",
        "\n",
        "\n",
        "val_pct = 0.8 \n",
        "msk = np.random.rand(len(X_train)) < val_pct\n",
        "X_train, X_val = X_train[msk], X_train[~msk]\n",
        "y_train, y_val = y_train[msk], y_train[~msk]"
      ],
      "execution_count": 0,
      "outputs": []
    },
    {
      "cell_type": "code",
      "metadata": {
        "id": "CNMZhdqZfILx",
        "colab_type": "code",
        "outputId": "a30feb0a-6dc7-41b0-f3cf-66b64f664351",
        "colab": {
          "base_uri": "https://localhost:8080/",
          "height": 34
        }
      },
      "source": [
        "X[np.argwhere(np.isnan(X))]"
      ],
      "execution_count": 0,
      "outputs": [
        {
          "output_type": "execute_result",
          "data": {
            "text/plain": [
              "array([], shape=(0, 3, 10, 4), dtype=float64)"
            ]
          },
          "metadata": {
            "tags": []
          },
          "execution_count": 39
        }
      ]
    },
    {
      "cell_type": "code",
      "metadata": {
        "id": "dJysiyZlWq9E",
        "colab_type": "code",
        "outputId": "9cb2bd25-5fb8-48be-9e30-6bfc1eeb7b8e",
        "colab": {
          "base_uri": "https://localhost:8080/",
          "height": 1000
        }
      },
      "source": [
        "import keras\n",
        "from keras import Sequential\n",
        "from keras.regularizers import l1_l2, l2\n",
        "from keras.layers import LSTM, Dense\n",
        "from keras.models import Model\n",
        "from keras.optimizers import RMSprop, Adam\n",
        "from keras.preprocessing.sequence import pad_sequences\n",
        "from keras import backend as K\n",
        "import matplotlib.pyplot as plt \n",
        "from sklearn.metrics import mean_squared_error\n",
        "\n",
        "# design network\n",
        "model = Sequential()\n",
        "model.add(LSTM(100, input_shape=(X_train.shape[1], X_train.shape[2]), return_sequences=True))\n",
        "model.add(LSTM(50, input_shape=(X_train.shape[1], X_train.shape[2]), return_sequences=True))\n",
        "model.add(LSTM(25, input_shape=(X_train.shape[1], X_train.shape[2])))\n",
        "model.add(Dense(X_train.shape[1], \n",
        "                kernel_regularizer=l1_l2(l1=1e-5, l2=1e-4),\n",
        "                bias_regularizer=l2(1e-4),\n",
        "                activity_regularizer=l2(1e-5)))\n",
        "opt = Adam(lr=.005, clipnorm=.001)\n",
        "model.compile(loss='mae', optimizer=opt)\n",
        "# fit network\n",
        "history = model.fit(X_train, y_train, epochs=75, batch_size=5, validation_data=(X_val, y_val), verbose=2, shuffle=True)\n",
        "# plot history\n",
        "plt.title('Loss vs. Epochs')\n",
        "plt.plot(history.history['loss'], label='train')\n",
        "plt.plot(history.history['val_loss'], label='test')\n",
        "plt.legend()\n",
        "plt.show()"
      ],
      "execution_count": 0,
      "outputs": [
        {
          "output_type": "stream",
          "text": [
            "Train on 403 samples, validate on 90 samples\n",
            "Epoch 1/75\n",
            " - 3s - loss: 0.1469 - val_loss: 0.1343\n",
            "Epoch 2/75\n",
            " - 1s - loss: 0.1287 - val_loss: 0.1350\n",
            "Epoch 3/75\n",
            " - 1s - loss: 0.1279 - val_loss: 0.1333\n",
            "Epoch 4/75\n",
            " - 1s - loss: 0.1253 - val_loss: 0.1378\n",
            "Epoch 5/75\n",
            " - 1s - loss: 0.1266 - val_loss: 0.1334\n",
            "Epoch 6/75\n",
            " - 1s - loss: 0.1264 - val_loss: 0.1296\n",
            "Epoch 7/75\n",
            " - 1s - loss: 0.1238 - val_loss: 0.1337\n",
            "Epoch 8/75\n",
            " - 1s - loss: 0.1247 - val_loss: 0.1297\n",
            "Epoch 9/75\n",
            " - 1s - loss: 0.1226 - val_loss: 0.1274\n",
            "Epoch 10/75\n",
            " - 1s - loss: 0.1222 - val_loss: 0.1359\n",
            "Epoch 11/75\n",
            " - 1s - loss: 0.1242 - val_loss: 0.1299\n",
            "Epoch 12/75\n",
            " - 1s - loss: 0.1248 - val_loss: 0.1323\n",
            "Epoch 13/75\n",
            " - 1s - loss: 0.1221 - val_loss: 0.1282\n",
            "Epoch 14/75\n",
            " - 1s - loss: 0.1215 - val_loss: 0.1281\n",
            "Epoch 15/75\n",
            " - 1s - loss: 0.1213 - val_loss: 0.1318\n",
            "Epoch 16/75\n",
            " - 1s - loss: 0.1204 - val_loss: 0.1273\n",
            "Epoch 17/75\n",
            " - 1s - loss: 0.1206 - val_loss: 0.1306\n",
            "Epoch 18/75\n",
            " - 1s - loss: 0.1208 - val_loss: 0.1276\n",
            "Epoch 19/75\n",
            " - 1s - loss: 0.1208 - val_loss: 0.1291\n",
            "Epoch 20/75\n",
            " - 1s - loss: 0.1193 - val_loss: 0.1312\n",
            "Epoch 21/75\n",
            " - 1s - loss: 0.1192 - val_loss: 0.1294\n",
            "Epoch 22/75\n",
            " - 1s - loss: 0.1202 - val_loss: 0.1265\n",
            "Epoch 23/75\n",
            " - 1s - loss: 0.1188 - val_loss: 0.1291\n",
            "Epoch 24/75\n",
            " - 1s - loss: 0.1209 - val_loss: 0.1298\n",
            "Epoch 25/75\n",
            " - 1s - loss: 0.1190 - val_loss: 0.1323\n",
            "Epoch 26/75\n",
            " - 1s - loss: 0.1182 - val_loss: 0.1302\n",
            "Epoch 27/75\n",
            " - 1s - loss: 0.1197 - val_loss: 0.1304\n",
            "Epoch 28/75\n",
            " - 1s - loss: 0.1198 - val_loss: 0.1289\n",
            "Epoch 29/75\n",
            " - 1s - loss: 0.1170 - val_loss: 0.1288\n",
            "Epoch 30/75\n",
            " - 1s - loss: 0.1180 - val_loss: 0.1268\n",
            "Epoch 31/75\n",
            " - 1s - loss: 0.1173 - val_loss: 0.1299\n",
            "Epoch 32/75\n",
            " - 1s - loss: 0.1159 - val_loss: 0.1267\n",
            "Epoch 33/75\n",
            " - 1s - loss: 0.1182 - val_loss: 0.1349\n",
            "Epoch 34/75\n",
            " - 1s - loss: 0.1166 - val_loss: 0.1295\n",
            "Epoch 35/75\n",
            " - 1s - loss: 0.1170 - val_loss: 0.1295\n",
            "Epoch 36/75\n",
            " - 1s - loss: 0.1166 - val_loss: 0.1270\n",
            "Epoch 37/75\n",
            " - 1s - loss: 0.1149 - val_loss: 0.1258\n",
            "Epoch 38/75\n",
            " - 1s - loss: 0.1153 - val_loss: 0.1264\n",
            "Epoch 39/75\n",
            " - 1s - loss: 0.1134 - val_loss: 0.1234\n",
            "Epoch 40/75\n",
            " - 1s - loss: 0.1141 - val_loss: 0.1251\n",
            "Epoch 41/75\n",
            " - 1s - loss: 0.1139 - val_loss: 0.1242\n",
            "Epoch 42/75\n",
            " - 1s - loss: 0.1122 - val_loss: 0.1249\n",
            "Epoch 43/75\n",
            " - 1s - loss: 0.1146 - val_loss: 0.1289\n",
            "Epoch 44/75\n",
            " - 1s - loss: 0.1136 - val_loss: 0.1254\n",
            "Epoch 45/75\n",
            " - 1s - loss: 0.1132 - val_loss: 0.1264\n",
            "Epoch 46/75\n",
            " - 1s - loss: 0.1151 - val_loss: 0.1256\n",
            "Epoch 47/75\n",
            " - 1s - loss: 0.1129 - val_loss: 0.1255\n",
            "Epoch 48/75\n",
            " - 1s - loss: 0.1118 - val_loss: 0.1233\n",
            "Epoch 49/75\n",
            " - 1s - loss: 0.1126 - val_loss: 0.1269\n",
            "Epoch 50/75\n",
            " - 1s - loss: 0.1106 - val_loss: 0.1261\n",
            "Epoch 51/75\n",
            " - 1s - loss: 0.1102 - val_loss: 0.1280\n",
            "Epoch 52/75\n",
            " - 1s - loss: 0.1105 - val_loss: 0.1271\n",
            "Epoch 53/75\n",
            " - 1s - loss: 0.1107 - val_loss: 0.1225\n",
            "Epoch 54/75\n",
            " - 1s - loss: 0.1097 - val_loss: 0.1236\n",
            "Epoch 55/75\n",
            " - 1s - loss: 0.1076 - val_loss: 0.1239\n",
            "Epoch 56/75\n",
            " - 1s - loss: 0.1098 - val_loss: 0.1265\n",
            "Epoch 57/75\n",
            " - 1s - loss: 0.1083 - val_loss: 0.1252\n",
            "Epoch 58/75\n",
            " - 1s - loss: 0.1063 - val_loss: 0.1258\n",
            "Epoch 59/75\n",
            " - 1s - loss: 0.1059 - val_loss: 0.1239\n",
            "Epoch 60/75\n",
            " - 1s - loss: 0.1057 - val_loss: 0.1258\n",
            "Epoch 61/75\n",
            " - 1s - loss: 0.1043 - val_loss: 0.1288\n",
            "Epoch 62/75\n",
            " - 1s - loss: 0.1024 - val_loss: 0.1301\n",
            "Epoch 63/75\n",
            " - 1s - loss: 0.1031 - val_loss: 0.1297\n",
            "Epoch 64/75\n",
            " - 1s - loss: 0.1025 - val_loss: 0.1299\n",
            "Epoch 65/75\n",
            " - 1s - loss: 0.1010 - val_loss: 0.1330\n",
            "Epoch 66/75\n",
            " - 1s - loss: 0.1001 - val_loss: 0.1304\n",
            "Epoch 67/75\n",
            " - 1s - loss: 0.0997 - val_loss: 0.1340\n",
            "Epoch 68/75\n",
            " - 1s - loss: 0.0993 - val_loss: 0.1366\n",
            "Epoch 69/75\n",
            " - 1s - loss: 0.1016 - val_loss: 0.1237\n",
            "Epoch 70/75\n",
            " - 1s - loss: 0.0992 - val_loss: 0.1357\n",
            "Epoch 71/75\n",
            " - 1s - loss: 0.0967 - val_loss: 0.1320\n",
            "Epoch 72/75\n",
            " - 1s - loss: 0.0956 - val_loss: 0.1295\n",
            "Epoch 73/75\n",
            " - 1s - loss: 0.0945 - val_loss: 0.1356\n",
            "Epoch 74/75\n",
            " - 1s - loss: 0.0902 - val_loss: 0.1253\n",
            "Epoch 75/75\n",
            " - 1s - loss: 0.0911 - val_loss: 0.1163\n"
          ],
          "name": "stdout"
        },
        {
          "output_type": "display_data",
          "data": {
            "image/png": "[encoded data removed]",
            "text/plain": [
              "<Figure size 432x288 with 1 Axes>"
            ]
          },
          "metadata": {
            "tags": []
          }
        }
      ]
    },
    {
      "cell_type": "code",
      "metadata": {
        "id": "j-5fXr_UXTpz",
        "colab_type": "code",
        "outputId": "f73a829f-a2d5-4ac6-8c1c-2bcc186664a3",
        "colab": {
          "base_uri": "https://localhost:8080/",
          "height": 68
        }
      },
      "source": [
        "from sklearn.metrics import mean_squared_error\n",
        "\n",
        "def revert_scaling(scale_df, name, vec):\n",
        "  return vec * (scale_df[name].max() - scale_df[name].min()) + scale_df[name].min()\n",
        "\n",
        "# calculate RMSE\n",
        "yhat = model.predict(X_test)\n",
        "rmse = np.sqrt(mean_squared_error(revert_scaling(subset, 'specific_attention', y_test), revert_scaling(subset, 'specific_attention', yhat)))\n",
        "print('Test RMSE: %.3f' % rmse)\n",
        "\n",
        "yhat = model.predict(X_val)\n",
        "rmse = np.sqrt(mean_squared_error(revert_scaling(subset, 'specific_attention', y_val), revert_scaling(subset, 'specific_attention', yhat)))\n",
        "print('Val RMSE: %.3f' % rmse)\n",
        "\n",
        "yhat = model.predict(X_train)\n",
        "rmse = np.sqrt(mean_squared_error(revert_scaling(subset, 'specific_attention', y_train), revert_scaling(subset, 'specific_attention', yhat)))\n",
        "print('Train RMSE: %.3f' % rmse)"
      ],
      "execution_count": 0,
      "outputs": [
        {
          "output_type": "stream",
          "text": [
            "Test RMSE: 15.403\n",
            "Val RMSE: 15.658\n",
            "Train RMSE: 12.563\n"
          ],
          "name": "stdout"
        }
      ]
    },
    {
      "cell_type": "markdown",
      "metadata": {
        "id": "gOnMzohqruzS",
        "colab_type": "text"
      },
      "source": [
        "## Trying out different difficulty sequences"
      ]
    },
    {
      "cell_type": "code",
      "metadata": {
        "id": "HRQ_3gx0sVhY",
        "colab_type": "code",
        "outputId": "c06abc93-2079-4e8c-fbd2-30cb94be7665",
        "colab": {
          "base_uri": "https://localhost:8080/",
          "height": 85
        }
      },
      "source": [
        "# vector = ['difficulty', 'subject', 'is_right_x', 'time_spent', 'specific_attention']\n",
        "X, y = responses[550:, :, :-1], responses[550:, :, -1]\n",
        "print( \"example sequence of input vectors corresponding to 10 responses by a particular student\")\n",
        "print(X.shape)\n",
        "print(\"example test output of the RNN model\")\n",
        "print(y.shape)"
      ],
      "execution_count": 0,
      "outputs": [
        {
          "output_type": "stream",
          "text": [
            "example sequence of input vectors corresponding to 10 responses by a particular student\n",
            "(67, 10, 4)\n",
            "example test output of the RNN model\n",
            "(67, 10)\n"
          ],
          "name": "stdout"
        }
      ]
    },
    {
      "cell_type": "code",
      "metadata": {
        "id": "vD6CckqRsXmf",
        "colab_type": "code",
        "colab": {}
      },
      "source": [
        "# 80% train test split\n",
        "train_pct = 0.8 \n",
        "msk = np.random.rand(len(X)) < train_pct \n",
        "X_train, X_test = X[msk], X[~msk]\n",
        "y_train, y_test = y[msk], y[~msk]\n",
        "\n",
        "\n",
        "val_pct = 0.8 \n",
        "msk = np.random.rand(len(X_train)) < val_pct\n",
        "X_train, X_val = X_train[msk], X_train[~msk]\n",
        "y_train, y_val = y_train[msk], y_train[~msk]"
      ],
      "execution_count": 0,
      "outputs": []
    },
    {
      "cell_type": "code",
      "metadata": {
        "id": "7JTd2oNksZa8",
        "colab_type": "code",
        "outputId": "ba0c9a40-af9b-44ba-bfd1-3b616516202a",
        "colab": {
          "base_uri": "https://localhost:8080/",
          "height": 1000
        }
      },
      "source": [
        "import keras\n",
        "from keras import Sequential\n",
        "from keras.regularizers import l1_l2, l2\n",
        "from keras.layers import LSTM, Dense\n",
        "from keras.models import Model\n",
        "from keras.optimizers import RMSprop, Adam\n",
        "from keras.preprocessing.sequence import pad_sequences\n",
        "from keras import backend as K\n",
        "import matplotlib.pyplot as plt \n",
        "from sklearn.metrics import mean_squared_error\n",
        "\n",
        "# design network\n",
        "model = Sequential()\n",
        "model.add(LSTM(64, input_shape=(X_train.shape[1], X_train.shape[2]), return_sequences=True))\n",
        "model.add(LSTM(32, input_shape=(X_train.shape[1], X_train.shape[2])))\n",
        "model.add(Dense(X_train.shape[1], \n",
        "                kernel_regularizer=l1_l2(l1=1e-5, l2=1e-4),\n",
        "                bias_regularizer=l2(1e-4),\n",
        "                activity_regularizer=l2(1e-5)))\n",
        "opt = Adam(lr=.005, clipnorm=.001)\n",
        "model.compile(loss='mae', optimizer=opt)\n",
        "# fit network\n",
        "history = model.fit(X_train, y_train, epochs=75, batch_size=5, validation_data=(X_val, y_val), verbose=2, shuffle=True)\n",
        "# plot history\n",
        "plt.title('Loss vs. Epochs')\n",
        "plt.plot(history.history['loss'], label='train')\n",
        "plt.plot(history.history['val_loss'], label='test')\n",
        "plt.legend()\n",
        "plt.show()"
      ],
      "execution_count": 0,
      "outputs": [
        {
          "output_type": "stream",
          "text": [
            "Train on 44 samples, validate on 10 samples\n",
            "Epoch 1/75\n",
            " - 1s - loss: 0.2231 - val_loss: 0.1225\n",
            "Epoch 2/75\n",
            " - 0s - loss: 0.1155 - val_loss: 0.1045\n",
            "Epoch 3/75\n",
            " - 0s - loss: 0.1090 - val_loss: 0.1068\n",
            "Epoch 4/75\n",
            " - 0s - loss: 0.1006 - val_loss: 0.0905\n",
            "Epoch 5/75\n",
            " - 0s - loss: 0.0973 - val_loss: 0.0920\n",
            "Epoch 6/75\n",
            " - 0s - loss: 0.0966 - val_loss: 0.0977\n",
            "Epoch 7/75\n",
            " - 0s - loss: 0.0977 - val_loss: 0.0986\n",
            "Epoch 8/75\n",
            " - 0s - loss: 0.0984 - val_loss: 0.0879\n",
            "Epoch 9/75\n",
            " - 0s - loss: 0.0999 - val_loss: 0.0946\n",
            "Epoch 10/75\n",
            " - 0s - loss: 0.0974 - val_loss: 0.0941\n",
            "Epoch 11/75\n",
            " - 0s - loss: 0.1029 - val_loss: 0.0966\n",
            "Epoch 12/75\n",
            " - 0s - loss: 0.1010 - val_loss: 0.0993\n",
            "Epoch 13/75\n",
            " - 0s - loss: 0.0964 - val_loss: 0.0910\n",
            "Epoch 14/75\n",
            " - 0s - loss: 0.0952 - val_loss: 0.0878\n",
            "Epoch 15/75\n",
            " - 0s - loss: 0.0951 - val_loss: 0.0878\n",
            "Epoch 16/75\n",
            " - 0s - loss: 0.0952 - val_loss: 0.0903\n",
            "Epoch 17/75\n",
            " - 0s - loss: 0.0934 - val_loss: 0.0868\n",
            "Epoch 18/75\n",
            " - 0s - loss: 0.0902 - val_loss: 0.0899\n",
            "Epoch 19/75\n",
            " - 0s - loss: 0.0887 - val_loss: 0.0944\n",
            "Epoch 20/75\n",
            " - 0s - loss: 0.0981 - val_loss: 0.0977\n",
            "Epoch 21/75\n",
            " - 0s - loss: 0.0993 - val_loss: 0.0826\n",
            "Epoch 22/75\n",
            " - 0s - loss: 0.0891 - val_loss: 0.0943\n",
            "Epoch 23/75\n",
            " - 0s - loss: 0.0972 - val_loss: 0.0817\n",
            "Epoch 24/75\n",
            " - 0s - loss: 0.0881 - val_loss: 0.0794\n",
            "Epoch 25/75\n",
            " - 0s - loss: 0.0877 - val_loss: 0.0834\n",
            "Epoch 26/75\n",
            " - 0s - loss: 0.0887 - val_loss: 0.0837\n",
            "Epoch 27/75\n",
            " - 0s - loss: 0.0918 - val_loss: 0.0892\n",
            "Epoch 28/75\n",
            " - 0s - loss: 0.0910 - val_loss: 0.0932\n",
            "Epoch 29/75\n",
            " - 0s - loss: 0.0900 - val_loss: 0.0948\n",
            "Epoch 30/75\n",
            " - 0s - loss: 0.0908 - val_loss: 0.0792\n",
            "Epoch 31/75\n",
            " - 0s - loss: 0.0896 - val_loss: 0.0923\n",
            "Epoch 32/75\n",
            " - 0s - loss: 0.0889 - val_loss: 0.0873\n",
            "Epoch 33/75\n",
            " - 0s - loss: 0.0824 - val_loss: 0.0880\n",
            "Epoch 34/75\n",
            " - 0s - loss: 0.0815 - val_loss: 0.0887\n",
            "Epoch 35/75\n",
            " - 0s - loss: 0.0801 - val_loss: 0.0938\n",
            "Epoch 36/75\n",
            " - 0s - loss: 0.0972 - val_loss: 0.0878\n",
            "Epoch 37/75\n",
            " - 0s - loss: 0.0882 - val_loss: 0.1008\n",
            "Epoch 38/75\n",
            " - 0s - loss: 0.0881 - val_loss: 0.0819\n",
            "Epoch 39/75\n",
            " - 0s - loss: 0.0857 - val_loss: 0.0959\n",
            "Epoch 40/75\n",
            " - 0s - loss: 0.0776 - val_loss: 0.0972\n",
            "Epoch 41/75\n",
            " - 0s - loss: 0.0866 - val_loss: 0.0928\n",
            "Epoch 42/75\n",
            " - 0s - loss: 0.0801 - val_loss: 0.0896\n",
            "Epoch 43/75\n",
            " - 0s - loss: 0.0803 - val_loss: 0.0844\n",
            "Epoch 44/75\n",
            " - 0s - loss: 0.0759 - val_loss: 0.0834\n",
            "Epoch 45/75\n",
            " - 0s - loss: 0.0765 - val_loss: 0.0891\n",
            "Epoch 46/75\n",
            " - 0s - loss: 0.0793 - val_loss: 0.0838\n",
            "Epoch 47/75\n",
            " - 0s - loss: 0.0747 - val_loss: 0.0862\n",
            "Epoch 48/75\n",
            " - 0s - loss: 0.0729 - val_loss: 0.0983\n",
            "Epoch 49/75\n",
            " - 0s - loss: 0.0707 - val_loss: 0.0806\n",
            "Epoch 50/75\n",
            " - 0s - loss: 0.0710 - val_loss: 0.0859\n",
            "Epoch 51/75\n",
            " - 0s - loss: 0.0714 - val_loss: 0.0835\n",
            "Epoch 52/75\n",
            " - 0s - loss: 0.0763 - val_loss: 0.0801\n",
            "Epoch 53/75\n",
            " - 0s - loss: 0.0692 - val_loss: 0.0855\n",
            "Epoch 54/75\n",
            " - 0s - loss: 0.0737 - val_loss: 0.0859\n",
            "Epoch 55/75\n",
            " - 0s - loss: 0.0696 - val_loss: 0.0799\n",
            "Epoch 56/75\n",
            " - 0s - loss: 0.0675 - val_loss: 0.0849\n",
            "Epoch 57/75\n",
            " - 0s - loss: 0.0651 - val_loss: 0.0944\n",
            "Epoch 58/75\n",
            " - 0s - loss: 0.0689 - val_loss: 0.0814\n",
            "Epoch 59/75\n",
            " - 0s - loss: 0.0663 - val_loss: 0.0816\n",
            "Epoch 60/75\n",
            " - 0s - loss: 0.0678 - val_loss: 0.0895\n",
            "Epoch 61/75\n",
            " - 0s - loss: 0.0676 - val_loss: 0.0912\n",
            "Epoch 62/75\n",
            " - 0s - loss: 0.0628 - val_loss: 0.0746\n",
            "Epoch 63/75\n",
            " - 0s - loss: 0.0603 - val_loss: 0.0906\n",
            "Epoch 64/75\n",
            " - 0s - loss: 0.0697 - val_loss: 0.0855\n",
            "Epoch 65/75\n",
            " - 0s - loss: 0.0565 - val_loss: 0.0852\n",
            "Epoch 66/75\n",
            " - 0s - loss: 0.0585 - val_loss: 0.0776\n",
            "Epoch 67/75\n",
            " - 0s - loss: 0.0642 - val_loss: 0.0851\n",
            "Epoch 68/75\n",
            " - 0s - loss: 0.0624 - val_loss: 0.0804\n",
            "Epoch 69/75\n",
            " - 0s - loss: 0.0613 - val_loss: 0.0704\n",
            "Epoch 70/75\n",
            " - 0s - loss: 0.0650 - val_loss: 0.0872\n",
            "Epoch 71/75\n",
            " - 0s - loss: 0.0598 - val_loss: 0.0793\n",
            "Epoch 72/75\n",
            " - 0s - loss: 0.0542 - val_loss: 0.0818\n",
            "Epoch 73/75\n",
            " - 0s - loss: 0.0613 - val_loss: 0.0818\n",
            "Epoch 74/75\n",
            " - 0s - loss: 0.0554 - val_loss: 0.0804\n",
            "Epoch 75/75\n",
            " - 0s - loss: 0.0584 - val_loss: 0.0872\n"
          ],
          "name": "stdout"
        },
        {
          "output_type": "display_data",
          "data": {
            "image/png": "[encoded data removed]",
            "text/plain": [
              "<Figure size 432x288 with 1 Axes>"
            ]
          },
          "metadata": {
            "tags": []
          }
        }
      ]
    },
    {
      "cell_type": "code",
      "metadata": {
        "id": "96jGIwZQsbIv",
        "colab_type": "code",
        "outputId": "8cead0bc-ea85-4ea4-d031-be320085f24e",
        "colab": {
          "base_uri": "https://localhost:8080/",
          "height": 68
        }
      },
      "source": [
        "from sklearn.metrics import mean_squared_error\n",
        "\n",
        "def revert_scaling(scale_df, name, vec):\n",
        "  return vec * (scale_df[name].max() - scale_df[name].min()) + scale_df[name].min()\n",
        "\n",
        "# calculate RMSE\n",
        "yhat = model.predict(X_test)\n",
        "rmse = np.sqrt(mean_squared_error(revert_scaling(subset, 'specific_attention', y_test), revert_scaling(subset, 'specific_attention', yhat)))\n",
        "print('Test RMSE: %.3f' % rmse)\n",
        "\n",
        "yhat = model.predict(X_val)\n",
        "rmse = np.sqrt(mean_squared_error(revert_scaling(subset, 'specific_attention', y_val), revert_scaling(subset, 'specific_attention', yhat)))\n",
        "print('Val RMSE: %.3f' % rmse)\n",
        "\n",
        "yhat = model.predict(X_train)\n",
        "rmse = np.sqrt(mean_squared_error(revert_scaling(subset, 'specific_attention', y_train), revert_scaling(subset, 'specific_attention', yhat)))\n",
        "print('Train RMSE: %.3f' % rmse)"
      ],
      "execution_count": 0,
      "outputs": [
        {
          "output_type": "stream",
          "text": [
            "Test RMSE: 14.116\n",
            "Val RMSE: 10.189\n",
            "Train RMSE: 7.317\n"
          ],
          "name": "stdout"
        }
      ]
    },
    {
      "cell_type": "code",
      "metadata": {
        "id": "8YAkO-tHseiZ",
        "colab_type": "code",
        "outputId": "af80bf0d-50e8-4a3d-a677-a61ad5959305",
        "colab": {
          "base_uri": "https://localhost:8080/",
          "height": 85
        }
      },
      "source": [
        "# Trying the top of the responses list (more common sequences) \n",
        "X, y = responses[0:100, :, :-1], responses[0:100, :, -1]\n",
        "print( \"example sequence of input vectors corresponding to 10 responses by a particular student\")\n",
        "print(X.shape)\n",
        "print(\"example test output of the RNN model\")\n",
        "print(y.shape)"
      ],
      "execution_count": 0,
      "outputs": [
        {
          "output_type": "stream",
          "text": [
            "example sequence of input vectors corresponding to 10 responses by a particular student\n",
            "(100, 10, 4)\n",
            "example test output of the RNN model\n",
            "(100, 10)\n"
          ],
          "name": "stdout"
        }
      ]
    },
    {
      "cell_type": "code",
      "metadata": {
        "id": "eoSBLfB-sgdb",
        "colab_type": "code",
        "colab": {}
      },
      "source": [
        "# 80% train test split\n",
        "train_pct = 0.8 \n",
        "msk = np.random.rand(len(X)) < train_pct \n",
        "X_train, X_test = X[msk], X[~msk]\n",
        "y_train, y_test = y[msk], y[~msk]\n",
        "\n",
        "\n",
        "val_pct = 0.8 \n",
        "msk = np.random.rand(len(X_train)) < val_pct\n",
        "X_train, X_val = X_train[msk], X_train[~msk]\n",
        "y_train, y_val = y_train[msk], y_train[~msk]"
      ],
      "execution_count": 0,
      "outputs": []
    },
    {
      "cell_type": "code",
      "metadata": {
        "id": "J8tAyDHTsiQM",
        "colab_type": "code",
        "outputId": "d3d56bb0-08d1-40da-c5d7-3ab7f8738d17",
        "colab": {
          "base_uri": "https://localhost:8080/",
          "height": 1000
        }
      },
      "source": [
        "import keras\n",
        "from keras import Sequential\n",
        "from keras.regularizers import l1_l2, l2\n",
        "from keras.layers import LSTM, Dense\n",
        "from keras.models import Model\n",
        "from keras.optimizers import RMSprop, Adam\n",
        "from keras.preprocessing.sequence import pad_sequences\n",
        "from keras import backend as K\n",
        "import matplotlib.pyplot as plt \n",
        "from sklearn.metrics import mean_squared_error\n",
        "\n",
        "# design network\n",
        "model = Sequential()\n",
        "model.add(LSTM(64, input_shape=(X_train.shape[1], X_train.shape[2]), return_sequences=True))\n",
        "model.add(LSTM(32, input_shape=(X_train.shape[1], X_train.shape[2])))\n",
        "model.add(Dense(X_train.shape[1], \n",
        "                kernel_regularizer=l1_l2(l1=1e-5, l2=1e-4),\n",
        "                bias_regularizer=l2(1e-4),\n",
        "                activity_regularizer=l2(1e-5)))\n",
        "opt = Adam(lr=.005, clipnorm=.001)\n",
        "model.compile(loss='mae', optimizer=opt)\n",
        "# fit network\n",
        "history = model.fit(X_train, y_train, epochs=75, batch_size=5, validation_data=(X_val, y_val), verbose=2, shuffle=True)\n",
        "# plot history\n",
        "plt.title('Loss vs. Epochs')\n",
        "plt.plot(history.history['loss'], label='train')\n",
        "plt.plot(history.history['val_loss'], label='test')\n",
        "plt.legend()\n",
        "plt.show()"
      ],
      "execution_count": 0,
      "outputs": [
        {
          "output_type": "stream",
          "text": [
            "Train on 66 samples, validate on 21 samples\n",
            "Epoch 1/75\n",
            " - 1s - loss: 0.2374 - val_loss: 0.1905\n",
            "Epoch 2/75\n",
            " - 0s - loss: 0.1256 - val_loss: 0.1601\n",
            "Epoch 3/75\n",
            " - 0s - loss: 0.1186 - val_loss: 0.1611\n",
            "Epoch 4/75\n",
            " - 0s - loss: 0.1232 - val_loss: 0.1714\n",
            "Epoch 5/75\n",
            " - 0s - loss: 0.1237 - val_loss: 0.1577\n",
            "Epoch 6/75\n",
            " - 0s - loss: 0.1128 - val_loss: 0.1572\n",
            "Epoch 7/75\n",
            " - 0s - loss: 0.1118 - val_loss: 0.1544\n",
            "Epoch 8/75\n",
            " - 0s - loss: 0.1124 - val_loss: 0.1536\n",
            "Epoch 9/75\n",
            " - 0s - loss: 0.1114 - val_loss: 0.1592\n",
            "Epoch 10/75\n",
            " - 0s - loss: 0.1160 - val_loss: 0.1533\n",
            "Epoch 11/75\n",
            " - 0s - loss: 0.1145 - val_loss: 0.1587\n",
            "Epoch 12/75\n",
            " - 0s - loss: 0.1121 - val_loss: 0.1543\n",
            "Epoch 13/75\n",
            " - 0s - loss: 0.1119 - val_loss: 0.1543\n",
            "Epoch 14/75\n",
            " - 0s - loss: 0.1115 - val_loss: 0.1563\n",
            "Epoch 15/75\n",
            " - 0s - loss: 0.1114 - val_loss: 0.1606\n",
            "Epoch 16/75\n",
            " - 0s - loss: 0.1125 - val_loss: 0.1575\n",
            "Epoch 17/75\n",
            " - 0s - loss: 0.1113 - val_loss: 0.1516\n",
            "Epoch 18/75\n",
            " - 0s - loss: 0.1145 - val_loss: 0.1526\n",
            "Epoch 19/75\n",
            " - 0s - loss: 0.1134 - val_loss: 0.1538\n",
            "Epoch 20/75\n",
            " - 0s - loss: 0.1088 - val_loss: 0.1532\n",
            "Epoch 21/75\n",
            " - 0s - loss: 0.1157 - val_loss: 0.1518\n",
            "Epoch 22/75\n",
            " - 0s - loss: 0.1137 - val_loss: 0.1556\n",
            "Epoch 23/75\n",
            " - 0s - loss: 0.1121 - val_loss: 0.1536\n",
            "Epoch 24/75\n",
            " - 0s - loss: 0.1085 - val_loss: 0.1520\n",
            "Epoch 25/75\n",
            " - 0s - loss: 0.1080 - val_loss: 0.1530\n",
            "Epoch 26/75\n",
            " - 0s - loss: 0.1103 - val_loss: 0.1540\n",
            "Epoch 27/75\n",
            " - 0s - loss: 0.1084 - val_loss: 0.1548\n",
            "Epoch 28/75\n",
            " - 0s - loss: 0.1108 - val_loss: 0.1538\n",
            "Epoch 29/75\n",
            " - 0s - loss: 0.1106 - val_loss: 0.1592\n",
            "Epoch 30/75\n",
            " - 0s - loss: 0.1135 - val_loss: 0.1551\n",
            "Epoch 31/75\n",
            " - 0s - loss: 0.1119 - val_loss: 0.1542\n",
            "Epoch 32/75\n",
            " - 0s - loss: 0.1090 - val_loss: 0.1517\n",
            "Epoch 33/75\n",
            " - 0s - loss: 0.1074 - val_loss: 0.1516\n",
            "Epoch 34/75\n",
            " - 0s - loss: 0.1097 - val_loss: 0.1546\n",
            "Epoch 35/75\n",
            " - 0s - loss: 0.1078 - val_loss: 0.1532\n",
            "Epoch 36/75\n",
            " - 0s - loss: 0.1094 - val_loss: 0.1521\n",
            "Epoch 37/75\n",
            " - 0s - loss: 0.1103 - val_loss: 0.1526\n",
            "Epoch 38/75\n",
            " - 0s - loss: 0.1085 - val_loss: 0.1550\n",
            "Epoch 39/75\n",
            " - 0s - loss: 0.1100 - val_loss: 0.1563\n",
            "Epoch 40/75\n",
            " - 0s - loss: 0.1155 - val_loss: 0.1517\n",
            "Epoch 41/75\n",
            " - 0s - loss: 0.1101 - val_loss: 0.1495\n",
            "Epoch 42/75\n",
            " - 0s - loss: 0.1061 - val_loss: 0.1524\n",
            "Epoch 43/75\n",
            " - 0s - loss: 0.1084 - val_loss: 0.1523\n",
            "Epoch 44/75\n",
            " - 0s - loss: 0.1064 - val_loss: 0.1520\n",
            "Epoch 45/75\n",
            " - 0s - loss: 0.1094 - val_loss: 0.1511\n",
            "Epoch 46/75\n",
            " - 0s - loss: 0.1071 - val_loss: 0.1495\n",
            "Epoch 47/75\n",
            " - 0s - loss: 0.1088 - val_loss: 0.1532\n",
            "Epoch 48/75\n",
            " - 0s - loss: 0.1094 - val_loss: 0.1500\n",
            "Epoch 49/75\n",
            " - 0s - loss: 0.1089 - val_loss: 0.1552\n",
            "Epoch 50/75\n",
            " - 0s - loss: 0.1105 - val_loss: 0.1515\n",
            "Epoch 51/75\n",
            " - 0s - loss: 0.1088 - val_loss: 0.1501\n",
            "Epoch 52/75\n",
            " - 0s - loss: 0.1062 - val_loss: 0.1519\n",
            "Epoch 53/75\n",
            " - 0s - loss: 0.1085 - val_loss: 0.1500\n",
            "Epoch 54/75\n",
            " - 0s - loss: 0.1086 - val_loss: 0.1531\n",
            "Epoch 55/75\n",
            " - 0s - loss: 0.1049 - val_loss: 0.1519\n",
            "Epoch 56/75\n",
            " - 0s - loss: 0.1084 - val_loss: 0.1503\n",
            "Epoch 57/75\n",
            " - 0s - loss: 0.1086 - val_loss: 0.1538\n",
            "Epoch 58/75\n",
            " - 0s - loss: 0.1098 - val_loss: 0.1495\n",
            "Epoch 59/75\n",
            " - 0s - loss: 0.1073 - val_loss: 0.1519\n",
            "Epoch 60/75\n",
            " - 0s - loss: 0.1085 - val_loss: 0.1526\n",
            "Epoch 61/75\n",
            " - 0s - loss: 0.1045 - val_loss: 0.1500\n",
            "Epoch 62/75\n",
            " - 0s - loss: 0.1045 - val_loss: 0.1469\n",
            "Epoch 63/75\n",
            " - 0s - loss: 0.1050 - val_loss: 0.1473\n",
            "Epoch 64/75\n",
            " - 0s - loss: 0.1038 - val_loss: 0.1461\n",
            "Epoch 65/75\n",
            " - 0s - loss: 0.1048 - val_loss: 0.1480\n",
            "Epoch 66/75\n",
            " - 0s - loss: 0.1024 - val_loss: 0.1451\n",
            "Epoch 67/75\n",
            " - 0s - loss: 0.1015 - val_loss: 0.1512\n",
            "Epoch 68/75\n",
            " - 0s - loss: 0.1091 - val_loss: 0.1464\n",
            "Epoch 69/75\n",
            " - 0s - loss: 0.1038 - val_loss: 0.1470\n",
            "Epoch 70/75\n",
            " - 0s - loss: 0.1084 - val_loss: 0.1436\n",
            "Epoch 71/75\n",
            " - 0s - loss: 0.1061 - val_loss: 0.1474\n",
            "Epoch 72/75\n",
            " - 0s - loss: 0.1049 - val_loss: 0.1514\n",
            "Epoch 73/75\n",
            " - 0s - loss: 0.1040 - val_loss: 0.1480\n",
            "Epoch 74/75\n",
            " - 0s - loss: 0.1062 - val_loss: 0.1428\n",
            "Epoch 75/75\n",
            " - 0s - loss: 0.1069 - val_loss: 0.1449\n"
          ],
          "name": "stdout"
        },
        {
          "output_type": "display_data",
          "data": {
            "image/png": "[encoded data removed]",
            "text/plain": [
              "<Figure size 432x288 with 1 Axes>"
            ]
          },
          "metadata": {
            "tags": []
          }
        }
      ]
    },
    {
      "cell_type": "code",
      "metadata": {
        "id": "ROpGeGpIsjDt",
        "colab_type": "code",
        "outputId": "5d0bf574-8507-4af3-e852-1ec8228c6774",
        "colab": {
          "base_uri": "https://localhost:8080/",
          "height": 68
        }
      },
      "source": [
        "from sklearn.metrics import mean_squared_error\n",
        "\n",
        "def revert_scaling(scale_df, name, vec):\n",
        "  return vec * (scale_df[name].max() - scale_df[name].min()) + scale_df[name].min()\n",
        "\n",
        "# calculate RMSE\n",
        "yhat = model.predict(X_test)\n",
        "rmse = np.sqrt(mean_squared_error(revert_scaling(subset, 'specific_attention', y_test), revert_scaling(subset, 'specific_attention', yhat)))\n",
        "print('Test RMSE: %.3f' % rmse)\n",
        "\n",
        "yhat = model.predict(X_val)\n",
        "rmse = np.sqrt(mean_squared_error(revert_scaling(subset, 'specific_attention', y_val), revert_scaling(subset, 'specific_attention', yhat)))\n",
        "print('Val RMSE: %.3f' % rmse)\n",
        "\n",
        "yhat = model.predict(X_train)\n",
        "rmse = np.sqrt(mean_squared_error(revert_scaling(subset, 'specific_attention', y_train), revert_scaling(subset, 'specific_attention', yhat)))\n",
        "print('Train RMSE: %.3f' % rmse)"
      ],
      "execution_count": 0,
      "outputs": [
        {
          "output_type": "stream",
          "text": [
            "Test RMSE: 13.637\n",
            "Val RMSE: 16.091\n",
            "Train RMSE: 12.624\n"
          ],
          "name": "stdout"
        }
      ]
    },
    {
      "cell_type": "markdown",
      "metadata": {
        "id": "rscX-F9I7yT8",
        "colab_type": "text"
      },
      "source": [
        "## Shuffling the responses data"
      ]
    },
    {
      "cell_type": "code",
      "metadata": {
        "id": "qZK8Mqqy7z80",
        "colab_type": "code",
        "outputId": "7aa4d5ce-8628-45ff-a6cd-5de01dcf5ba3",
        "colab": {
          "base_uri": "https://localhost:8080/",
          "height": 85
        }
      },
      "source": [
        "X, y = responses[:, :, :-1], responses[:, :, -1]\n",
        "print( \"example sequence of input vectors corresponding to 10 responses by a particular student\")\n",
        "print(X.shape)\n",
        "print(\"example test output of the RNN model\")\n",
        "print(y.shape)"
      ],
      "execution_count": 0,
      "outputs": [
        {
          "output_type": "stream",
          "text": [
            "example sequence of input vectors corresponding to 10 responses by a particular student\n",
            "(617, 10, 4)\n",
            "example test output of the RNN model\n",
            "(617, 10)\n"
          ],
          "name": "stdout"
        }
      ]
    },
    {
      "cell_type": "code",
      "metadata": {
        "id": "ArOOUy3b72zr",
        "colab_type": "code",
        "colab": {}
      },
      "source": [
        "# 80% train test split\n",
        "train_pct = 0.8 \n",
        "msk = np.random.rand(len(X)) < train_pct \n",
        "X_train, X_test = X[msk], X[~msk]\n",
        "y_train, y_test = y[msk], y[~msk]\n",
        "\n",
        "\n",
        "val_pct = 0.8 \n",
        "msk = np.random.rand(len(X_train)) < val_pct\n",
        "X_train, X_val = X_train[msk], X_train[~msk]\n",
        "y_train, y_val = y_train[msk], y_train[~msk]"
      ],
      "execution_count": 0,
      "outputs": []
    },
    {
      "cell_type": "code",
      "metadata": {
        "id": "F-iFHN6c76Hn",
        "colab_type": "code",
        "outputId": "fd96ef03-6dd9-4643-b3d9-e0e3ef8381f9",
        "colab": {
          "base_uri": "https://localhost:8080/",
          "height": 1000
        }
      },
      "source": [
        "import keras\n",
        "from keras import Sequential\n",
        "from keras.regularizers import l1_l2, l2\n",
        "from keras.layers import LSTM, Dense\n",
        "from keras.models import Model\n",
        "from keras.optimizers import RMSprop, Adam\n",
        "from keras.preprocessing.sequence import pad_sequences\n",
        "from keras import backend as K\n",
        "import matplotlib.pyplot as plt \n",
        "from sklearn.metrics import mean_squared_error\n",
        "\n",
        "# design network\n",
        "model = Sequential()\n",
        "model.add(LSTM(64, input_shape=(X_train.shape[1], X_train.shape[2]), return_sequences=True))\n",
        "model.add(LSTM(32, input_shape=(X_train.shape[1], X_train.shape[2])))\n",
        "model.add(Dense(X_train.shape[1], \n",
        "                kernel_regularizer=l1_l2(l1=1e-5, l2=1e-4),\n",
        "                bias_regularizer=l2(1e-4),\n",
        "                activity_regularizer=l2(1e-5)))\n",
        "opt = Adam(lr=.005, clipnorm=.001)\n",
        "model.compile(loss='mae', optimizer=opt)\n",
        "# fit network\n",
        "history = model.fit(X_train, y_train, epochs=75, batch_size=5, validation_data=(X_val, y_val), verbose=2, shuffle=True)\n",
        "# plot history\n",
        "plt.title('Loss vs. Epochs')\n",
        "plt.plot(history.history['loss'], label='train')\n",
        "plt.plot(history.history['val_loss'], label='test')\n",
        "plt.legend()\n",
        "plt.show()"
      ],
      "execution_count": 0,
      "outputs": [
        {
          "output_type": "stream",
          "text": [
            "Train on 395 samples, validate on 94 samples\n",
            "Epoch 1/75\n",
            " - 1s - loss: 0.1708 - val_loss: 0.1267\n",
            "Epoch 2/75\n",
            " - 1s - loss: 0.1453 - val_loss: 0.1292\n",
            "Epoch 3/75\n",
            " - 1s - loss: 0.1392 - val_loss: 0.1205\n",
            "Epoch 4/75\n",
            " - 1s - loss: 0.1385 - val_loss: 0.1204\n",
            "Epoch 5/75\n",
            " - 1s - loss: 0.1364 - val_loss: 0.1199\n",
            "Epoch 6/75\n",
            " - 1s - loss: 0.1361 - val_loss: 0.1186\n",
            "Epoch 7/75\n",
            " - 1s - loss: 0.1370 - val_loss: 0.1184\n",
            "Epoch 8/75\n",
            " - 1s - loss: 0.1369 - val_loss: 0.1202\n",
            "Epoch 9/75\n",
            " - 1s - loss: 0.1361 - val_loss: 0.1224\n",
            "Epoch 10/75\n",
            " - 1s - loss: 0.1372 - val_loss: 0.1312\n",
            "Epoch 11/75\n",
            " - 1s - loss: 0.1361 - val_loss: 0.1171\n",
            "Epoch 12/75\n",
            " - 1s - loss: 0.1354 - val_loss: 0.1169\n",
            "Epoch 13/75\n",
            " - 1s - loss: 0.1347 - val_loss: 0.1172\n",
            "Epoch 14/75\n",
            " - 1s - loss: 0.1340 - val_loss: 0.1166\n",
            "Epoch 15/75\n",
            " - 1s - loss: 0.1350 - val_loss: 0.1148\n",
            "Epoch 16/75\n",
            " - 1s - loss: 0.1336 - val_loss: 0.1174\n",
            "Epoch 17/75\n",
            " - 1s - loss: 0.1341 - val_loss: 0.1183\n",
            "Epoch 18/75\n",
            " - 1s - loss: 0.1346 - val_loss: 0.1160\n",
            "Epoch 19/75\n",
            " - 1s - loss: 0.1335 - val_loss: 0.1167\n",
            "Epoch 20/75\n",
            " - 1s - loss: 0.1354 - val_loss: 0.1133\n",
            "Epoch 21/75\n",
            " - 1s - loss: 0.1331 - val_loss: 0.1134\n",
            "Epoch 22/75\n",
            " - 1s - loss: 0.1326 - val_loss: 0.1123\n",
            "Epoch 23/75\n",
            " - 1s - loss: 0.1324 - val_loss: 0.1134\n",
            "Epoch 24/75\n",
            " - 1s - loss: 0.1323 - val_loss: 0.1142\n",
            "Epoch 25/75\n",
            " - 1s - loss: 0.1324 - val_loss: 0.1119\n",
            "Epoch 26/75\n",
            " - 1s - loss: 0.1317 - val_loss: 0.1129\n",
            "Epoch 27/75\n",
            " - 1s - loss: 0.1322 - val_loss: 0.1138\n",
            "Epoch 28/75\n",
            " - 1s - loss: 0.1310 - val_loss: 0.1207\n",
            "Epoch 29/75\n",
            " - 1s - loss: 0.1331 - val_loss: 0.1119\n",
            "Epoch 30/75\n",
            " - 1s - loss: 0.1310 - val_loss: 0.1100\n",
            "Epoch 31/75\n",
            " - 1s - loss: 0.1311 - val_loss: 0.1114\n",
            "Epoch 32/75\n",
            " - 1s - loss: 0.1317 - val_loss: 0.1088\n",
            "Epoch 33/75\n",
            " - 1s - loss: 0.1311 - val_loss: 0.1092\n",
            "Epoch 34/75\n",
            " - 1s - loss: 0.1307 - val_loss: 0.1082\n",
            "Epoch 35/75\n",
            " - 1s - loss: 0.1306 - val_loss: 0.1089\n",
            "Epoch 36/75\n",
            " - 1s - loss: 0.1305 - val_loss: 0.1108\n",
            "Epoch 37/75\n",
            " - 1s - loss: 0.1314 - val_loss: 0.1074\n",
            "Epoch 38/75\n",
            " - 1s - loss: 0.1299 - val_loss: 0.1083\n",
            "Epoch 39/75\n",
            " - 1s - loss: 0.1313 - val_loss: 0.1065\n",
            "Epoch 40/75\n",
            " - 1s - loss: 0.1306 - val_loss: 0.1118\n",
            "Epoch 41/75\n",
            " - 1s - loss: 0.1296 - val_loss: 0.1081\n",
            "Epoch 42/75\n",
            " - 1s - loss: 0.1289 - val_loss: 0.1093\n",
            "Epoch 43/75\n",
            " - 1s - loss: 0.1290 - val_loss: 0.1076\n",
            "Epoch 44/75\n",
            " - 1s - loss: 0.1307 - val_loss: 0.1065\n",
            "Epoch 45/75\n",
            " - 1s - loss: 0.1280 - val_loss: 0.1058\n",
            "Epoch 46/75\n",
            " - 1s - loss: 0.1284 - val_loss: 0.1054\n",
            "Epoch 47/75\n",
            " - 1s - loss: 0.1306 - val_loss: 0.1069\n",
            "Epoch 48/75\n",
            " - 1s - loss: 0.1287 - val_loss: 0.1069\n",
            "Epoch 49/75\n",
            " - 1s - loss: 0.1273 - val_loss: 0.1057\n",
            "Epoch 50/75\n",
            " - 1s - loss: 0.1280 - val_loss: 0.1052\n",
            "Epoch 51/75\n",
            " - 1s - loss: 0.1287 - val_loss: 0.1051\n",
            "Epoch 52/75\n",
            " - 1s - loss: 0.1263 - val_loss: 0.1054\n",
            "Epoch 53/75\n",
            " - 1s - loss: 0.1280 - val_loss: 0.1086\n",
            "Epoch 54/75\n",
            " - 1s - loss: 0.1280 - val_loss: 0.1051\n",
            "Epoch 55/75\n",
            " - 1s - loss: 0.1259 - val_loss: 0.1040\n",
            "Epoch 56/75\n",
            " - 1s - loss: 0.1259 - val_loss: 0.1034\n",
            "Epoch 57/75\n",
            " - 1s - loss: 0.1252 - val_loss: 0.1026\n",
            "Epoch 58/75\n",
            " - 1s - loss: 0.1248 - val_loss: 0.1010\n",
            "Epoch 59/75\n",
            " - 1s - loss: 0.1237 - val_loss: 0.0982\n",
            "Epoch 60/75\n",
            " - 1s - loss: 0.1190 - val_loss: 0.0931\n",
            "Epoch 61/75\n",
            " - 1s - loss: 0.1170 - val_loss: 0.0970\n",
            "Epoch 62/75\n",
            " - 1s - loss: 0.1099 - val_loss: 0.0940\n",
            "Epoch 63/75\n",
            " - 1s - loss: 0.1132 - val_loss: 0.0968\n",
            "Epoch 64/75\n",
            " - 1s - loss: 0.1125 - val_loss: 0.0905\n",
            "Epoch 65/75\n",
            " - 1s - loss: 0.1106 - val_loss: 0.0947\n",
            "Epoch 66/75\n",
            " - 1s - loss: 0.1075 - val_loss: 0.0879\n",
            "Epoch 67/75\n",
            " - 1s - loss: 0.1082 - val_loss: 0.0889\n",
            "Epoch 68/75\n",
            " - 1s - loss: 0.1066 - val_loss: 0.0913\n",
            "Epoch 69/75\n",
            " - 1s - loss: 0.1050 - val_loss: 0.0920\n",
            "Epoch 70/75\n",
            " - 1s - loss: 0.1053 - val_loss: 0.0944\n",
            "Epoch 71/75\n",
            " - 1s - loss: 0.1027 - val_loss: 0.0891\n",
            "Epoch 72/75\n",
            " - 1s - loss: 0.1049 - val_loss: 0.1024\n",
            "Epoch 73/75\n",
            " - 1s - loss: 0.1118 - val_loss: 0.1000\n",
            "Epoch 74/75\n",
            " - 1s - loss: 0.1024 - val_loss: 0.0900\n",
            "Epoch 75/75\n",
            " - 1s - loss: 0.0996 - val_loss: 0.0888\n"
          ],
          "name": "stdout"
        },
        {
          "output_type": "display_data",
          "data": {
            "image/png": "[encoded data removed]",
            "text/plain": [
              "<Figure size 432x288 with 1 Axes>"
            ]
          },
          "metadata": {
            "tags": []
          }
        }
      ]
    },
    {
      "cell_type": "code",
      "metadata": {
        "id": "ZO_LvPEC7_vm",
        "colab_type": "code",
        "outputId": "62756b0e-cb88-4235-b9f0-e4ce8fc21961",
        "colab": {
          "base_uri": "https://localhost:8080/",
          "height": 85
        }
      },
      "source": [
        "from sklearn.metrics import mean_squared_error\n",
        "\n",
        "def revert_scaling(scale_df, name, vec):\n",
        "  return vec * (scale_df[name].max() - scale_df[name].min()) + scale_df[name].min()\n",
        "\n",
        "# calculate RMSE\n",
        "yhat = model.predict(X_test)\n",
        "print(X_test.shape)\n",
        "rmse = np.sqrt(mean_squared_error(revert_scaling(subset, 'specific_attention', y_test), revert_scaling(subset, 'specific_attention', yhat)))\n",
        "print('Test RMSE: %.3f' % rmse)\n",
        "\n",
        "yhat = model.predict(X_val)\n",
        "rmse = np.sqrt(mean_squared_error(revert_scaling(subset, 'specific_attention', y_val), revert_scaling(subset, 'specific_attention', yhat)))\n",
        "print('Val RMSE: %.3f' % rmse)\n",
        "\n",
        "yhat = model.predict(X_train)\n",
        "rmse = np.sqrt(mean_squared_error(revert_scaling(subset, 'specific_attention', y_train), revert_scaling(subset, 'specific_attention', yhat)))\n",
        "print('Train RMSE: %.3f' % rmse)"
      ],
      "execution_count": 0,
      "outputs": [
        {
          "output_type": "stream",
          "text": [
            "(128, 10, 4)\n",
            "Test RMSE: 11.572\n",
            "Val RMSE: 11.201\n",
            "Train RMSE: 12.949\n"
          ],
          "name": "stdout"
        }
      ]
    },
    {
      "cell_type": "markdown",
      "metadata": {
        "id": "B3DxJMU58QYY",
        "colab_type": "text"
      },
      "source": [
        "Using shuffled responses model on sequences with varying difficulties"
      ]
    },
    {
      "cell_type": "code",
      "metadata": {
        "id": "ktFBsqAV83PE",
        "colab_type": "code",
        "colab": {}
      },
      "source": [
        "# Manually looked at responses data for sequences with same difficult\n",
        "# 616: difficult 5's\n",
        "# 607: difficult 2\n",
        "# 531: difficult 8's\n",
        "# 233: difficult 1's"
      ],
      "execution_count": 0,
      "outputs": []
    },
    {
      "cell_type": "code",
      "metadata": {
        "id": "m0FvweBJ-ZUI",
        "colab_type": "code",
        "outputId": "f764f693-c07d-45cf-efeb-88aedecfa6ac",
        "colab": {
          "base_uri": "https://localhost:8080/",
          "height": 357
        }
      },
      "source": [
        "fives, att5 = responses[616:617, :, :-1], responses[616:617, :, -1]\n",
        "twos, att2 = responses[607:608, :, :-1], responses[607:608, :, -1]\n",
        "eights, att8 = responses[531:532, :, :-1], responses[531:532, :, -1]\n",
        "ones, att1 = responses[233:234, :, :-1], responses[233:234, :, -1]\n",
        "\n",
        "def caseTest(arr, att):\n",
        "  yhat = model.predict(arr)\n",
        "  print(arr[:,:,0])\n",
        "  print('avg difficulty of sequence', np.mean(arr[:, :, 0]))\n",
        "  print('avg predicted attention', np.mean(revert_scaling(subset, 'specific_attention', yhat)))\n",
        "  print('avg reported attention', np.mean(revert_scaling(subset, 'specific_attention', att)))\n",
        "  print()\n",
        "\n",
        "caseTest(ones, att1)\n",
        "caseTest(twos, att2)\n",
        "caseTest(fives, att5)\n",
        "caseTest(eights, att8)\n",
        "\n",
        "# attention_fives = model.predict(fives)\n",
        "# print(np.mean(fives[:, :, 0]))\n",
        "# print(\"Predicted attention for difficulty level ~5: \")\n",
        "# print(attention_fives*100)\n",
        "# print(\"\\n\")\n",
        "\n",
        "# attention_twos = model.predict(twos)\n",
        "# print(np.mean(twos[:, :, 0]))\n",
        "# print(\"Predicted attention for difficulty level ~2: \")\n",
        "# print(attention_twos*100)\n",
        "# print(\"\\n\")\n",
        "\n",
        "# attention_eights = model.predict(eights)\n",
        "# print(np.mean(eights[:, :, 0]))\n",
        "# print(\"Predicted attention for difficulty level ~8: \")\n",
        "# print(attention_eights*100)\n",
        "# print(\"\\n\")\n",
        "\n",
        "# attention_ones = model.predict(ones)\n",
        "# print(np.mean(ones[:, :, 0]))\n",
        "# print(\"Predicted attention for difficulty level ~1: \")\n",
        "# print(attention_ones*100)\n",
        "# print(\"\\n\")"
      ],
      "execution_count": 0,
      "outputs": [
        {
          "output_type": "stream",
          "text": [
            "[[1. 1. 1. 1. 1. 1. 1. 1. 1. 1.]]\n",
            "avg difficulty of sequence 1.0\n",
            "avg predicted attention 53.747894\n",
            "avg reported attention 54.76851687711828\n",
            "\n",
            "[[5. 2. 2. 2. 2. 2. 2. 2. 2. 2.]]\n",
            "avg difficulty of sequence 2.3\n",
            "avg predicted attention 34.8383\n",
            "avg reported attention 50.34885187710033\n",
            "\n",
            "[[5. 5. 5. 5. 5. 5. 5. 5. 5. 2.]]\n",
            "avg difficulty of sequence 4.7\n",
            "avg predicted attention 42.93207\n",
            "avg reported attention 36.68126670052023\n",
            "\n",
            "[[8. 5. 8. 8. 5. 8. 8. 5. 8. 8.]]\n",
            "avg difficulty of sequence 7.1\n",
            "avg predicted attention 67.9041\n",
            "avg reported attention 67.19344105440027\n",
            "\n"
          ],
          "name": "stdout"
        }
      ]
    },
    {
      "cell_type": "markdown",
      "metadata": {
        "id": "HH6ynjeg_nAa",
        "colab_type": "text"
      },
      "source": [
        "This attention data is useful because curriculum designers can use this model on questions of similar difficulty to predict student's attention towards it. This can help formulate better curriculum targeted towards retaining students' attentions."
      ]
    },
    {
      "cell_type": "markdown",
      "metadata": {
        "id": "GPgmMhKWxBiL",
        "colab_type": "text"
      },
      "source": [
        "# Discussion\n",
        "\n",
        "It seems like our model is usually off by around 14 attention points. This result is higher than the RMSE of around 10. achieved using the SVR classifier in aggregate (not including sequence information). Though this result is perhaps not what we expected to discover, we recognize that we faced many shortcomings when it came to our data consistency and therefore had to make certain assumptions when designing our LSTM model. As a result, we still believe that using a recurrent model is a good idea when predicting student attention across a sequence of problems and warrants additional research.\n",
        "\n",
        "This model has still been trained on real 10-question data by students wearing attention-measurement gear. Instructors and curriculum creators can use a model like this and pass in relevant features about each question (difficulty, subject, expected student correctness, expected time spent on each problem) to determine how attentive students will be throughout an online assessment or lesson. This can help ensure that students stay engaged, a key challenge for MOOCs and online learning platforms in general.\n",
        "\n",
        "Given some of the inconsistencies in our data and some of the assumptions we had to make in our methods, we highly encourage education data scientists to pursue more expansive and consistent data collection projects that make use of brainwave reading technology to better understand how the brain perceives information it's being taught. Maintaining attention and improving retention go hand-in-hand with learning. Further testing the hypothesis of our project could help education researchers identify the best ways to present content and maximize student assessments across the board moving forward."
      ]
    },
    {
      "cell_type": "code",
      "metadata": {
        "id": "lMMPqu8w-sz_",
        "colab_type": "code",
        "colab": {}
      },
      "source": [
        ""
      ],
      "execution_count": 0,
      "outputs": []
    }
  ]
}